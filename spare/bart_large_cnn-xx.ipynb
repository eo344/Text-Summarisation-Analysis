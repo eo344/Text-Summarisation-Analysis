{
  "cells": [
    {
      "cell_type": "code",
      "execution_count": null,
      "metadata": {
        "id": "R7J4A5obblfH"
      },
      "outputs": [],
      "source": [
        "pip install tensorflow"
      ]
    },
    {
      "cell_type": "code",
      "execution_count": null,
      "metadata": {
        "id": "istB2IHkGmoO"
      },
      "outputs": [],
      "source": [
        "pip install bs4"
      ]
    },
    {
      "cell_type": "code",
      "execution_count": null,
      "metadata": {
        "id": "-xrWRKqQIG2T"
      },
      "outputs": [],
      "source": [
        "pip install requests"
      ]
    },
    {
      "cell_type": "code",
      "execution_count": null,
      "metadata": {
        "id": "w96hooQ6IILY"
      },
      "outputs": [],
      "source": [
        "pip install transformers"
      ]
    },
    {
      "cell_type": "code",
      "execution_count": null,
      "metadata": {
        "id": "ue-9d34VIL00"
      },
      "outputs": [],
      "source": [
        "pip install pandas"
      ]
    },
    {
      "cell_type": "code",
      "execution_count": 11,
      "metadata": {},
      "outputs": [
        {
          "name": "stdout",
          "output_type": "stream",
          "text": [
            "Defaulting to user installation because normal site-packages is not writeable\n",
            "Requirement already satisfied: evaluate in c:\\users\\eolor\\appdata\\local\\packages\\pythonsoftwarefoundation.python.3.12_qbz5n2kfra8p0\\localcache\\local-packages\\python312\\site-packages (0.4.2)\n",
            "Requirement already satisfied: datasets>=2.0.0 in c:\\users\\eolor\\appdata\\local\\packages\\pythonsoftwarefoundation.python.3.12_qbz5n2kfra8p0\\localcache\\local-packages\\python312\\site-packages (from evaluate) (2.19.0)\n",
            "Requirement already satisfied: numpy>=1.17 in c:\\users\\eolor\\appdata\\local\\packages\\pythonsoftwarefoundation.python.3.12_qbz5n2kfra8p0\\localcache\\local-packages\\python312\\site-packages (from evaluate) (1.26.4)\n",
            "Requirement already satisfied: dill in c:\\users\\eolor\\appdata\\local\\packages\\pythonsoftwarefoundation.python.3.12_qbz5n2kfra8p0\\localcache\\local-packages\\python312\\site-packages (from evaluate) (0.3.8)\n",
            "Requirement already satisfied: pandas in c:\\users\\eolor\\appdata\\local\\packages\\pythonsoftwarefoundation.python.3.12_qbz5n2kfra8p0\\localcache\\local-packages\\python312\\site-packages (from evaluate) (2.2.2)\n",
            "Requirement already satisfied: requests>=2.19.0 in c:\\users\\eolor\\appdata\\local\\packages\\pythonsoftwarefoundation.python.3.12_qbz5n2kfra8p0\\localcache\\local-packages\\python312\\site-packages (from evaluate) (2.31.0)\n",
            "Requirement already satisfied: tqdm>=4.62.1 in c:\\users\\eolor\\appdata\\local\\packages\\pythonsoftwarefoundation.python.3.12_qbz5n2kfra8p0\\localcache\\local-packages\\python312\\site-packages (from evaluate) (4.66.2)\n",
            "Requirement already satisfied: xxhash in c:\\users\\eolor\\appdata\\local\\packages\\pythonsoftwarefoundation.python.3.12_qbz5n2kfra8p0\\localcache\\local-packages\\python312\\site-packages (from evaluate) (3.4.1)\n",
            "Requirement already satisfied: multiprocess in c:\\users\\eolor\\appdata\\local\\packages\\pythonsoftwarefoundation.python.3.12_qbz5n2kfra8p0\\localcache\\local-packages\\python312\\site-packages (from evaluate) (0.70.16)\n",
            "Requirement already satisfied: fsspec>=2021.05.0 in c:\\users\\eolor\\appdata\\local\\packages\\pythonsoftwarefoundation.python.3.12_qbz5n2kfra8p0\\localcache\\local-packages\\python312\\site-packages (from fsspec[http]>=2021.05.0->evaluate) (2024.3.1)\n",
            "Requirement already satisfied: huggingface-hub>=0.7.0 in c:\\users\\eolor\\appdata\\local\\packages\\pythonsoftwarefoundation.python.3.12_qbz5n2kfra8p0\\localcache\\local-packages\\python312\\site-packages (from evaluate) (0.22.2)\n",
            "Requirement already satisfied: packaging in c:\\users\\eolor\\appdata\\local\\packages\\pythonsoftwarefoundation.python.3.12_qbz5n2kfra8p0\\localcache\\local-packages\\python312\\site-packages (from evaluate) (24.0)\n",
            "Requirement already satisfied: filelock in c:\\users\\eolor\\appdata\\local\\packages\\pythonsoftwarefoundation.python.3.12_qbz5n2kfra8p0\\localcache\\local-packages\\python312\\site-packages (from datasets>=2.0.0->evaluate) (3.14.0)\n",
            "Requirement already satisfied: pyarrow>=12.0.0 in c:\\users\\eolor\\appdata\\local\\packages\\pythonsoftwarefoundation.python.3.12_qbz5n2kfra8p0\\localcache\\local-packages\\python312\\site-packages (from datasets>=2.0.0->evaluate) (16.0.0)\n",
            "Requirement already satisfied: pyarrow-hotfix in c:\\users\\eolor\\appdata\\local\\packages\\pythonsoftwarefoundation.python.3.12_qbz5n2kfra8p0\\localcache\\local-packages\\python312\\site-packages (from datasets>=2.0.0->evaluate) (0.6)\n",
            "Requirement already satisfied: aiohttp in c:\\users\\eolor\\appdata\\local\\packages\\pythonsoftwarefoundation.python.3.12_qbz5n2kfra8p0\\localcache\\local-packages\\python312\\site-packages (from datasets>=2.0.0->evaluate) (3.9.5)\n",
            "Requirement already satisfied: pyyaml>=5.1 in c:\\users\\eolor\\appdata\\local\\packages\\pythonsoftwarefoundation.python.3.12_qbz5n2kfra8p0\\localcache\\local-packages\\python312\\site-packages (from datasets>=2.0.0->evaluate) (6.0.1)\n",
            "Requirement already satisfied: typing-extensions>=3.7.4.3 in c:\\users\\eolor\\appdata\\local\\packages\\pythonsoftwarefoundation.python.3.12_qbz5n2kfra8p0\\localcache\\local-packages\\python312\\site-packages (from huggingface-hub>=0.7.0->evaluate) (4.11.0)\n",
            "Requirement already satisfied: charset-normalizer<4,>=2 in c:\\users\\eolor\\appdata\\local\\packages\\pythonsoftwarefoundation.python.3.12_qbz5n2kfra8p0\\localcache\\local-packages\\python312\\site-packages (from requests>=2.19.0->evaluate) (3.3.2)\n",
            "Requirement already satisfied: idna<4,>=2.5 in c:\\users\\eolor\\appdata\\local\\packages\\pythonsoftwarefoundation.python.3.12_qbz5n2kfra8p0\\localcache\\local-packages\\python312\\site-packages (from requests>=2.19.0->evaluate) (3.7)\n",
            "Requirement already satisfied: urllib3<3,>=1.21.1 in c:\\users\\eolor\\appdata\\local\\packages\\pythonsoftwarefoundation.python.3.12_qbz5n2kfra8p0\\localcache\\local-packages\\python312\\site-packages (from requests>=2.19.0->evaluate) (2.2.1)\n",
            "Requirement already satisfied: certifi>=2017.4.17 in c:\\users\\eolor\\appdata\\local\\packages\\pythonsoftwarefoundation.python.3.12_qbz5n2kfra8p0\\localcache\\local-packages\\python312\\site-packages (from requests>=2.19.0->evaluate) (2024.2.2)\n",
            "Requirement already satisfied: colorama in c:\\users\\eolor\\appdata\\local\\packages\\pythonsoftwarefoundation.python.3.12_qbz5n2kfra8p0\\localcache\\local-packages\\python312\\site-packages (from tqdm>=4.62.1->evaluate) (0.4.6)\n",
            "Requirement already satisfied: python-dateutil>=2.8.2 in c:\\users\\eolor\\appdata\\local\\packages\\pythonsoftwarefoundation.python.3.12_qbz5n2kfra8p0\\localcache\\local-packages\\python312\\site-packages (from pandas->evaluate) (2.9.0.post0)\n",
            "Requirement already satisfied: pytz>=2020.1 in c:\\users\\eolor\\appdata\\local\\packages\\pythonsoftwarefoundation.python.3.12_qbz5n2kfra8p0\\localcache\\local-packages\\python312\\site-packages (from pandas->evaluate) (2024.1)\n",
            "Requirement already satisfied: tzdata>=2022.7 in c:\\users\\eolor\\appdata\\local\\packages\\pythonsoftwarefoundation.python.3.12_qbz5n2kfra8p0\\localcache\\local-packages\\python312\\site-packages (from pandas->evaluate) (2024.1)\n",
            "Requirement already satisfied: aiosignal>=1.1.2 in c:\\users\\eolor\\appdata\\local\\packages\\pythonsoftwarefoundation.python.3.12_qbz5n2kfra8p0\\localcache\\local-packages\\python312\\site-packages (from aiohttp->datasets>=2.0.0->evaluate) (1.3.1)\n",
            "Requirement already satisfied: attrs>=17.3.0 in c:\\users\\eolor\\appdata\\local\\packages\\pythonsoftwarefoundation.python.3.12_qbz5n2kfra8p0\\localcache\\local-packages\\python312\\site-packages (from aiohttp->datasets>=2.0.0->evaluate) (23.2.0)\n",
            "Requirement already satisfied: frozenlist>=1.1.1 in c:\\users\\eolor\\appdata\\local\\packages\\pythonsoftwarefoundation.python.3.12_qbz5n2kfra8p0\\localcache\\local-packages\\python312\\site-packages (from aiohttp->datasets>=2.0.0->evaluate) (1.4.1)\n",
            "Requirement already satisfied: multidict<7.0,>=4.5 in c:\\users\\eolor\\appdata\\local\\packages\\pythonsoftwarefoundation.python.3.12_qbz5n2kfra8p0\\localcache\\local-packages\\python312\\site-packages (from aiohttp->datasets>=2.0.0->evaluate) (6.0.5)\n",
            "Requirement already satisfied: yarl<2.0,>=1.0 in c:\\users\\eolor\\appdata\\local\\packages\\pythonsoftwarefoundation.python.3.12_qbz5n2kfra8p0\\localcache\\local-packages\\python312\\site-packages (from aiohttp->datasets>=2.0.0->evaluate) (1.9.4)\n",
            "Requirement already satisfied: six>=1.5 in c:\\users\\eolor\\appdata\\local\\packages\\pythonsoftwarefoundation.python.3.12_qbz5n2kfra8p0\\localcache\\local-packages\\python312\\site-packages (from python-dateutil>=2.8.2->pandas->evaluate) (1.16.0)\n",
            "Note: you may need to restart the kernel to use updated packages.\n"
          ]
        }
      ],
      "source": [
        "pip install evaluate"
      ]
    },
    {
      "cell_type": "code",
      "execution_count": 14,
      "metadata": {},
      "outputs": [
        {
          "name": "stdout",
          "output_type": "stream",
          "text": [
            "Defaulting to user installation because normal site-packages is not writeableNote: you may need to restart the kernel to use updated packages.\n",
            "\n",
            "Requirement already satisfied: rouge_score in c:\\users\\eolor\\appdata\\local\\packages\\pythonsoftwarefoundation.python.3.12_qbz5n2kfra8p0\\localcache\\local-packages\\python312\\site-packages (0.1.2)\n",
            "Requirement already satisfied: absl-py in c:\\users\\eolor\\appdata\\local\\packages\\pythonsoftwarefoundation.python.3.12_qbz5n2kfra8p0\\localcache\\local-packages\\python312\\site-packages (from rouge_score) (2.1.0)\n",
            "Requirement already satisfied: nltk in c:\\users\\eolor\\appdata\\local\\packages\\pythonsoftwarefoundation.python.3.12_qbz5n2kfra8p0\\localcache\\local-packages\\python312\\site-packages (from rouge_score) (3.8.1)\n",
            "Requirement already satisfied: numpy in c:\\users\\eolor\\appdata\\local\\packages\\pythonsoftwarefoundation.python.3.12_qbz5n2kfra8p0\\localcache\\local-packages\\python312\\site-packages (from rouge_score) (1.26.4)\n",
            "Requirement already satisfied: six>=1.14.0 in c:\\users\\eolor\\appdata\\local\\packages\\pythonsoftwarefoundation.python.3.12_qbz5n2kfra8p0\\localcache\\local-packages\\python312\\site-packages (from rouge_score) (1.16.0)\n",
            "Requirement already satisfied: click in c:\\users\\eolor\\appdata\\local\\packages\\pythonsoftwarefoundation.python.3.12_qbz5n2kfra8p0\\localcache\\local-packages\\python312\\site-packages (from nltk->rouge_score) (8.1.7)\n",
            "Requirement already satisfied: joblib in c:\\users\\eolor\\appdata\\local\\packages\\pythonsoftwarefoundation.python.3.12_qbz5n2kfra8p0\\localcache\\local-packages\\python312\\site-packages (from nltk->rouge_score) (1.4.0)\n",
            "Requirement already satisfied: regex>=2021.8.3 in c:\\users\\eolor\\appdata\\local\\packages\\pythonsoftwarefoundation.python.3.12_qbz5n2kfra8p0\\localcache\\local-packages\\python312\\site-packages (from nltk->rouge_score) (2024.4.28)\n",
            "Requirement already satisfied: tqdm in c:\\users\\eolor\\appdata\\local\\packages\\pythonsoftwarefoundation.python.3.12_qbz5n2kfra8p0\\localcache\\local-packages\\python312\\site-packages (from nltk->rouge_score) (4.66.2)\n",
            "Requirement already satisfied: colorama in c:\\users\\eolor\\appdata\\local\\packages\\pythonsoftwarefoundation.python.3.12_qbz5n2kfra8p0\\localcache\\local-packages\\python312\\site-packages (from click->nltk->rouge_score) (0.4.6)\n"
          ]
        }
      ],
      "source": [
        "pip install rouge_score"
      ]
    },
    {
      "cell_type": "code",
      "execution_count": 16,
      "metadata": {},
      "outputs": [
        {
          "name": "stdout",
          "output_type": "stream",
          "text": [
            "Defaulting to user installation because normal site-packages is not writeable\n",
            "Requirement already satisfied: nltk in c:\\users\\eolor\\appdata\\local\\packages\\pythonsoftwarefoundation.python.3.12_qbz5n2kfra8p0\\localcache\\local-packages\\python312\\site-packages (3.8.1)\n",
            "Requirement already satisfied: click in c:\\users\\eolor\\appdata\\local\\packages\\pythonsoftwarefoundation.python.3.12_qbz5n2kfra8p0\\localcache\\local-packages\\python312\\site-packages (from nltk) (8.1.7)\n",
            "Requirement already satisfied: joblib in c:\\users\\eolor\\appdata\\local\\packages\\pythonsoftwarefoundation.python.3.12_qbz5n2kfra8p0\\localcache\\local-packages\\python312\\site-packages (from nltk) (1.4.0)\n",
            "Requirement already satisfied: regex>=2021.8.3 in c:\\users\\eolor\\appdata\\local\\packages\\pythonsoftwarefoundation.python.3.12_qbz5n2kfra8p0\\localcache\\local-packages\\python312\\site-packages (from nltk) (2024.4.28)\n",
            "Requirement already satisfied: tqdm in c:\\users\\eolor\\appdata\\local\\packages\\pythonsoftwarefoundation.python.3.12_qbz5n2kfra8p0\\localcache\\local-packages\\python312\\site-packages (from nltk) (4.66.2)\n",
            "Requirement already satisfied: colorama in c:\\users\\eolor\\appdata\\local\\packages\\pythonsoftwarefoundation.python.3.12_qbz5n2kfra8p0\\localcache\\local-packages\\python312\\site-packages (from click->nltk) (0.4.6)\n",
            "Note: you may need to restart the kernel to use updated packages.\n"
          ]
        }
      ],
      "source": [
        "pip install nltk"
      ]
    },
    {
      "cell_type": "code",
      "execution_count": 1,
      "metadata": {
        "id": "djUT1Hc_cR9j"
      },
      "outputs": [
        {
          "name": "stderr",
          "output_type": "stream",
          "text": [
            "C:\\Users\\eolor\\AppData\\Local\\Packages\\PythonSoftwareFoundation.Python.3.12_qbz5n2kfra8p0\\LocalCache\\local-packages\\Python312\\site-packages\\tqdm\\auto.py:21: TqdmWarning: IProgress not found. Please update jupyter and ipywidgets. See https://ipywidgets.readthedocs.io/en/stable/user_install.html\n",
            "  from .autonotebook import tqdm as notebook_tqdm\n"
          ]
        },
        {
          "name": "stdout",
          "output_type": "stream",
          "text": [
            "WARNING:tensorflow:From C:\\Users\\eolor\\AppData\\Local\\Packages\\PythonSoftwareFoundation.Python.3.12_qbz5n2kfra8p0\\LocalCache\\local-packages\\Python312\\site-packages\\tf_keras\\src\\losses.py:2976: The name tf.losses.sparse_softmax_cross_entropy is deprecated. Please use tf.compat.v1.losses.sparse_softmax_cross_entropy instead.\n",
            "\n",
            "WARNING:tensorflow:From C:\\Users\\eolor\\AppData\\Local\\Packages\\PythonSoftwareFoundation.Python.3.12_qbz5n2kfra8p0\\LocalCache\\local-packages\\Python312\\site-packages\\tf_keras\\src\\backend.py:873: The name tf.get_default_graph is deprecated. Please use tf.compat.v1.get_default_graph instead.\n",
            "\n"
          ]
        },
        {
          "name": "stderr",
          "output_type": "stream",
          "text": [
            "All PyTorch model weights were used when initializing TFBartForConditionalGeneration.\n",
            "\n",
            "All the weights of TFBartForConditionalGeneration were initialized from the PyTorch model.\n",
            "If your task is similar to the task the model of the checkpoint was trained on, you can already use TFBartForConditionalGeneration for predictions without further training.\n"
          ]
        }
      ],
      "source": [
        "import requests\n",
        "from bs4 import BeautifulSoup\n",
        "import transformers\n",
        "from transformers import pipeline\n",
        "pipe = pipeline(\"summarization\", model=\"facebook/bart-large-cnn\")"
      ]
    },
    {
      "cell_type": "code",
      "execution_count": 2,
      "metadata": {},
      "outputs": [],
      "source": [
        "import re\n",
        "import pandas as pd\n",
        "import numpy as np"
      ]
    },
    {
      "cell_type": "code",
      "execution_count": 12,
      "metadata": {},
      "outputs": [],
      "source": [
        "from evaluate import load\n",
        "import evaluate "
      ]
    },
    {
      "cell_type": "code",
      "execution_count": 3,
      "metadata": {
        "id": "WiVY2S7fcn1-"
      },
      "outputs": [],
      "source": [
        "def get_data(url):\n",
        "    \"\"\" Retrieves text surrounded by <p> tags from the url\n",
        "\n",
        "        Args:\n",
        "          url: A url passed in by the user, containing the text to be summarised\n",
        "\n",
        "        Returns:\n",
        "          data: An array of each paragraph from the url\n",
        "    \"\"\"\n",
        "    response = requests.get(url)\n",
        "    soup = BeautifulSoup(response.text, 'html.parser')\n",
        "    data = soup.find_all('p')\n",
        "    return data"
      ]
    },
    {
      "cell_type": "code",
      "execution_count": null,
      "metadata": {
        "id": "agclIN4VcqVL"
      },
      "outputs": [],
      "source": [
        "#text = str (text)\n",
        "#text"
      ]
    },
    {
      "cell_type": "code",
      "execution_count": 4,
      "metadata": {
        "id": "ZnTu7MVMc1b9"
      },
      "outputs": [
        {
          "name": "stderr",
          "output_type": "stream",
          "text": [
            "<>:13: SyntaxWarning: invalid escape sequence '\\/'\n",
            "<>:13: SyntaxWarning: invalid escape sequence '\\/'\n",
            "C:\\Users\\eolor\\AppData\\Local\\Temp\\ipykernel_10268\\3919253588.py:13: SyntaxWarning: invalid escape sequence '\\/'\n",
            "  match = re.match(\"<p>(.*)<\\/p>\", paraString)\n"
          ]
        }
      ],
      "source": [
        "def clean_data(text):\n",
        "  \"\"\" Cleans the data so it can be processed by the pipeline\n",
        "\n",
        "  Args:\n",
        "    text: raw data from the get_data() method\n",
        "\n",
        "  Returns:\n",
        "    paragraph: An array containing all the clean data, separated by paragraph\n",
        "  \"\"\"\n",
        "  paragraph = []\n",
        "  for i in text:\n",
        "    paraString = str (i)\n",
        "    match = re.match(\"<p>(.*)<\\/p>\", paraString)\n",
        "    if match:\n",
        "      groupMatch = re.match(\"^(?!.*<[^>]+>).*$\", match.group(1))\n",
        "      if groupMatch:\n",
        "        paragraph.append(match.group(1))\n",
        "  return paragraph"
      ]
    },
    {
      "cell_type": "code",
      "execution_count": 5,
      "metadata": {
        "id": "Nt1_fsFbK7xi"
      },
      "outputs": [],
      "source": [
        "def get_summary(text, maxLim, minLim, sample):\n",
        "  \"\"\" Summarizes the text paragraph by paragraph\n",
        "\n",
        "  Args:\n",
        "    text: An array of clean text(s)\n",
        "    max: An integer stating the maximum amount of words the summary should include\n",
        "    min: An integer stating amount of words the summary should include\n",
        "    sample: A boolean that influences how the model generates text\n",
        "\n",
        "  Returns:\n",
        "    summary: A dictionary full of key-value pairs ('summary_text': summarised paragraph)\n",
        "  \"\"\"\n",
        "  summary = pipe(text, max_length=maxLim, min_length=minLim, do_sample=sample)\n",
        "  return summary"
      ]
    },
    {
      "cell_type": "code",
      "execution_count": 6,
      "metadata": {
        "id": "DbJaTEHTK_KX"
      },
      "outputs": [],
      "source": [
        "def get_dataframe(para, summ):\n",
        "  \"\"\" Turns the original paragraphs and summarised paragraphs into a Data Frame\n",
        "\n",
        "    Args:\n",
        "      para: The original cleaned paragraphs\n",
        "      summ: The summary dictionary\n",
        "\n",
        "    Returns:\n",
        "      textDF: Data Frame containing both values of para and summ\n",
        "  \"\"\"\n",
        "  summaries = []\n",
        "  for i in range(len(summ)):\n",
        "    summaries.append(summ[i]['summary_text'])\n",
        "  para = pd.DataFrame(para, columns=['Paragraph'])\n",
        "  summaries = pd.DataFrame(summaries, columns=['Summary'])\n",
        "  textDF = pd.concat([para, summaries], axis=1)\n",
        "  pd.set_option('display.max_colwidth',3000)\n",
        "  return textDF"
      ]
    },
    {
      "cell_type": "code",
      "execution_count": 7,
      "metadata": {
        "id": "0Y7_UInvLA3P"
      },
      "outputs": [
        {
          "data": {
            "text/plain": [
              "[<p><em>Peter van der Made is the founder and CTO of </em><a aria-label=\"BrainChip Ltd\" class=\"color-link\" data-ga-track=\"ExternalLink:https://brainchip.com/\" href=\"https://brainchip.com/\" rel=\"nofollow noopener noreferrer\" target=\"_blank\" title=\"https://brainchip.com/\"><em data-ga-track=\"ExternalLink:https://brainchip.com/\">BrainChip Ltd</em></a><em>. BrainChip produces advanced AI processors in digital neuromorphic technologies.</em></p>,\n",
              " <p class=\"color-body light-text\"> </p>,\n",
              " <p>The artificial intelligence (AI) revolution is upon us, and companies must prepare to adapt to this change. It is important to make an inventory of the current skills within the company to identify which additional skills the employees need to learn. The company does well in developing an AI strategy to outline the areas where AI is most effective, whether in a product or a service. Failing to act inevitably means falling behind. The training should include an introduction to AI, its capabilities, and its shortcomings (AI is only as good as its training data). This article gives a view of the current state of AI and what lies ahead.</p>,\n",
              " <p>Artificial intelligence found its purpose in 2012 when AlexNet won the <a aria-label=\"ImageNet challenge\" class=\"color-link\" data-ga-track=\"ExternalLink:https://towardsdatascience.com/alexnet-the-architecture-that-challenged-cnns-e406d5297951\" href=\"https://towardsdatascience.com/alexnet-the-architecture-that-challenged-cnns-e406d5297951\" rel=\"nofollow noopener noreferrer\" target=\"_blank\" title=\"https://towardsdatascience.com/alexnet-the-architecture-that-challenged-cnns-e406d5297951\">ImageNet challenge</a> with a 16.4% overall error rate, compared to over 26%. The ImageNet challenge is a collection of 1.4 million images in 1000 categories, such as dogs, cars, plants, etc. A neural network is the internal engine of all artificial intelligence technologies. The neural network is said to be based on the way the human brain functions; however, this is far from the truth. Brains are way more complicated and efficient than neural networks. Brains have awareness, imagination, inventiveness and creativity, all missing in neural networks. Brains are also dynamic, consisting of specialized cells called neurons.</p>,\n",
              " <p>Neural networks have grown from a few million to nearly 200 billion parameters. Each parameter must be computed, causing an increasingly great demand for high-performance computing resources and energy. Artificial intelligence programs have beaten humans at chess and in the more complicated game of Go. Programs such as ChatGPT can weave exciting stories and answer complex questions. Training a large network can take months on powerful servers with hundreds of thousands of processors.</p>,\n",
              " <p>The increase in computational resources has made new AI tools and neural networks possible. However, the neural networks responsible for all these impressive results are unaware of what they are doing. There is no awareness, just computation.</p>,\n",
              " <p>Machine learning is a subset of artificial intelligence. Training algorithms need vast data sets to create good-quality parameters that define the function and accuracy of a neural network. Machine learning continues to advance as more data becomes available and algorithms become more sophisticated. AI is used in many fields, including healthcare, finance, manufacturing and transportation.</p>,\n",
              " <p>The future of artificial intelligence appears bright with continued advancements in technology. Investment in artificial intelligence reached $93.5 billion in 2021, according to <a aria-label=\"Statista\" class=\"color-link\" data-ga-track=\"ExternalLink:https://www.statista.com/statistics/941137/ai-investment-and-funding-worldwide/\" href=\"https://www.statista.com/statistics/941137/ai-investment-and-funding-worldwide/\" rel=\"nofollow noopener noreferrer\" target=\"_blank\" title=\"https://www.statista.com/statistics/941137/ai-investment-and-funding-worldwide/\">Statista</a>. The current trend for neural networks to grow larger will likely continue into the near future as more functionality is required.</p>,\n",
              " <p>One of the most promising new technologies is neuromorphic processing. Neuromorphic means \"like the brain.\" Dedicated circuits are used to mimic the way dynamic cells in the brain operate. They do not run any programs but are capable of learning, and just like actual brain cells, they all work simultaneously rather than sequentially. Neuromorphic cortical models of artificial intelligence are based on the structure and function of the neocortex, the brain's outer region responsible for complex cognitive processes and are small, faster and less power-hungry than computers.</p>,\n",
              " <p>Research into these and other brain structures is expected to lead to greater levels of intelligence and better cognitive performance than in previous types of artificial intelligence. With several million nodes, these artificial cortical networks are still far from simulating human intelligence.</p>,\n",
              " <p>Like the composition of the brain, which contains many different structures, it may be necessary to use different types of neural networks to perform specific functions. The neocortex is just one part of the brain responsible for cognition and intelligence. It has massive connections to the thalamus, the hippocampus and the cerebellum, all examples of brain regions important for different cognitive aspects.</p>,\n",
              " <p>Modeling these regions and the neocortex could lead to more advanced AI systems. The thalamus is the central hub that receives sensory information in the brain. Modeling the thalamus could improve the ability of AI to process sensory information, such as auditory, tactile and visual data.</p>,\n",
              " <p>The hippocampus is involved in spatial navigation and the creation of long-term memories. Modeling the hippocampus's functions could improve AI systems' ability to learn and selectively form long-term memory.</p>,\n",
              " <p>The cerebellum has massive connections to all regions of the neocortex. Modeling the cerebellum could lead to the simultaneous processing of incoming data while the AI is learning something new, like driving a car.</p>,\n",
              " <p>While the neuroscience understanding of these brain regions is still incomplete, sufficient information is available to build models that may answer open questions and fill in some of the blanks through experimentation. One day, cortical neuromorphic neural networks may displace the neural networks driving artificial intelligence today and have been responsible for its many successes.</p>,\n",
              " <p>One key difference is their training method. Current neural networks require millions of examples and an error feedback algorithm to adjust the parameters. These training sessions can take weeks using expensive, powerful computers costing millions.</p>,\n",
              " <p>Cortical neuromorphic neural networks learn from few examples and are thus cheaper to deploy. Neuromorphic processing eliminates the need for colossal computer resources. Continuous learning adds experience, creating more accurate outcomes.</p>,\n",
              " <p>Cortical neural networks are expected to be used in products that range from speech recognition to image processing, space exploration, healthcare, and robotics within the next five years. The development of cortical neural networks may lead to the emergence of artificial general intelligence (AGI), the holy grail of artificial intelligence. Humanity will benefit from the emergence of AGI in turbocharging the global economy in providing a multiplier for human ingenuity and safety. AGI is likely to benefit humankind much like previous economic revolutions. The internet and computers changed the way we do business. There will be a similar shift in how humans occupy their time in the future.</p>,\n",
              " <p>AI is a fast-moving field, and companies cannot afford to stand still. To enable personnel, it is imperative to take action now to enable employees to upgrade their skills to meet the challenges of the future. Seek out opportunities to train your employees on this new technology in order to fully embrace it across your organization.</p>,\n",
              " <p><a aria-label=\"Forbes Technology Council\" class=\"color-link\" data-ga-track=\"InternalLink:https://councils.forbes.com/forbestechcouncil?utm_source=forbes.com&amp;utm_medium=referral&amp;utm_campaign=forbes-links&amp;utm_content=in-article-ad-links\" href=\"https://councils.forbes.com/forbestechcouncil?utm_source=forbes.com&amp;utm_medium=referral&amp;utm_campaign=forbes-links&amp;utm_content=in-article-ad-links\" target=\"_self\" title=\"https://councils.forbes.com/forbestechcouncil?utm_source=forbes.com&amp;utm_medium=referral&amp;utm_campaign=forbes-links&amp;utm_content=in-article-ad-links\">Forbes Technology Council</a> is an invitation-only community for world-class CIOs, CTOs and technology executives. <a aria-label=\"Do I qualify?\" class=\"color-link\" data-ga-track=\"InternalLink:https://councils.forbes.com/qualify?utm_source=forbes.com&amp;utm_medium=referral&amp;utm_campaign=forbes-links&amp;utm_term=ftc&amp;utm_content=in-article-ad-links\" href=\"https://councils.forbes.com/qualify?utm_source=forbes.com&amp;utm_medium=referral&amp;utm_campaign=forbes-links&amp;utm_term=ftc&amp;utm_content=in-article-ad-links\" target=\"_self\" title=\"https://councils.forbes.com/qualify?utm_source=forbes.com&amp;utm_medium=referral&amp;utm_campaign=forbes-links&amp;utm_term=ftc&amp;utm_content=in-article-ad-links\"><em data-ga-track=\"InternalLink:https://councils.forbes.com/qualify?utm_source=forbes.com&amp;utm_medium=referral&amp;utm_campaign=forbes-links&amp;utm_term=ftc&amp;utm_content=in-article-ad-links\">Do I qualify?</em></a></p>,\n",
              " <p class=\"contrib-bio\" data-author-html-description=\"&lt;p&gt;Peter van der Made is the founder and CTO of&amp;nbsp;&lt;a href=&quot;https://brainchip.com/&quot; target=&quot;_blank&quot; class=&quot;color-link&quot; title=&quot;https://brainchip.com/&quot; rel=&quot;nofollow noopener&quot;&gt;BrainChip Ltd&lt;/a&gt;. BrainChip produces advanced AI processors in digital neuromorphic technologies.&amp;nbsp;Read Peter van der Made's full executive profile &lt;a href=&quot;https://councils.forbes.com/u/cac5765e-e128-4ddf-99b5-d924f3bcd770&quot; target=&quot;_blank&quot; class=&quot;color-link&quot; title=&quot;https://councils.forbes.com/u/cac5765e-e128-4ddf-99b5-d924f3bcd770&quot;&gt;here&lt;/a&gt;.&lt;/p&gt;\"></p>]"
            ]
          },
          "execution_count": 7,
          "metadata": {},
          "output_type": "execute_result"
        }
      ],
      "source": [
        "text = get_data('https://www.forbes.com/sites/forbestechcouncil/2023/04/10/the-future-of-artificial-intelligence/?sh=6043be4ac496')\n",
        "text"
      ]
    },
    {
      "cell_type": "code",
      "execution_count": 8,
      "metadata": {
        "id": "sMleuiGbLFMK"
      },
      "outputs": [],
      "source": [
        "cleanText = clean_data(text)"
      ]
    },
    {
      "cell_type": "code",
      "execution_count": 9,
      "metadata": {
        "id": "ndA3Dgi4LF79"
      },
      "outputs": [],
      "source": [
        "summary = get_summary(cleanText, 35, 25, False)"
      ]
    },
    {
      "cell_type": "code",
      "execution_count": 10,
      "metadata": {
        "colab": {
          "base_uri": "https://localhost:8080/",
          "height": 2152
        },
        "id": "TSi3NM4kLHF_",
        "outputId": "892aad31-dfb4-41db-b3cd-6d163bfea02e"
      },
      "outputs": [
        {
          "data": {
            "text/html": [
              "<div>\n",
              "<style scoped>\n",
              "    .dataframe tbody tr th:only-of-type {\n",
              "        vertical-align: middle;\n",
              "    }\n",
              "\n",
              "    .dataframe tbody tr th {\n",
              "        vertical-align: top;\n",
              "    }\n",
              "\n",
              "    .dataframe thead th {\n",
              "        text-align: right;\n",
              "    }\n",
              "</style>\n",
              "<table border=\"1\" class=\"dataframe\">\n",
              "  <thead>\n",
              "    <tr style=\"text-align: right;\">\n",
              "      <th></th>\n",
              "      <th>Paragraph</th>\n",
              "      <th>Summary</th>\n",
              "    </tr>\n",
              "  </thead>\n",
              "  <tbody>\n",
              "    <tr>\n",
              "      <th>0</th>\n",
              "      <td>The artificial intelligence (AI) revolution is upon us, and companies must prepare to adapt to this change. It is important to make an inventory of the current skills within the company to identify which additional skills the employees need to learn. The company does well in developing an AI strategy to outline the areas where AI is most effective, whether in a product or a service. Failing to act inevitably means falling behind. The training should include an introduction to AI, its capabilities, and its shortcomings (AI is only as good as its training data). This article gives a view of the current state of AI and what lies ahead.</td>\n",
              "      <td>The artificial intelligence (AI) revolution is upon us, and companies must prepare to adapt to this change. It is important to make an inventory of the current skills</td>\n",
              "    </tr>\n",
              "    <tr>\n",
              "      <th>1</th>\n",
              "      <td>Neural networks have grown from a few million to nearly 200 billion parameters. Each parameter must be computed, causing an increasingly great demand for high-performance computing resources and energy. Artificial intelligence programs have beaten humans at chess and in the more complicated game of Go. Programs such as ChatGPT can weave exciting stories and answer complex questions. Training a large network can take months on powerful servers with hundreds of thousands of processors.</td>\n",
              "      <td>Neural networks have grown from a few million to nearly 200 billion parameters. Training a large network can take months on powerful servers with hundreds of thousands of processors.</td>\n",
              "    </tr>\n",
              "    <tr>\n",
              "      <th>2</th>\n",
              "      <td>The increase in computational resources has made new AI tools and neural networks possible. However, the neural networks responsible for all these impressive results are unaware of what they are doing. There is no awareness, just computation.</td>\n",
              "      <td>The neural networks responsible for all these impressive results are unaware of what they are doing. There is no awareness, just computation. The increase in computational resources has made</td>\n",
              "    </tr>\n",
              "    <tr>\n",
              "      <th>3</th>\n",
              "      <td>Machine learning is a subset of artificial intelligence. Training algorithms need vast data sets to create good-quality parameters that define the function and accuracy of a neural network. Machine learning continues to advance as more data becomes available and algorithms become more sophisticated. AI is used in many fields, including healthcare, finance, manufacturing and transportation.</td>\n",
              "      <td>Machine learning is a subset of artificial intelligence. Training algorithms need vast data sets to create good-quality parameters. Machine learning continues to advance as more data becomes available</td>\n",
              "    </tr>\n",
              "    <tr>\n",
              "      <th>4</th>\n",
              "      <td>One of the most promising new technologies is neuromorphic processing. Neuromorphic means \"like the brain.\" Dedicated circuits are used to mimic the way dynamic cells in the brain operate. They do not run any programs but are capable of learning, and just like actual brain cells, they all work simultaneously rather than sequentially. Neuromorphic cortical models of artificial intelligence are based on the structure and function of the neocortex, the brain's outer region responsible for complex cognitive processes and are small, faster and less power-hungry than computers.</td>\n",
              "      <td>Dedicated circuits are used to mimic the way dynamic cells in the brain operate. Neuromorphic cortical models of artificial intelligence are based on the structure and function</td>\n",
              "    </tr>\n",
              "    <tr>\n",
              "      <th>5</th>\n",
              "      <td>Research into these and other brain structures is expected to lead to greater levels of intelligence and better cognitive performance than in previous types of artificial intelligence. With several million nodes, these artificial cortical networks are still far from simulating human intelligence.</td>\n",
              "      <td>With several million nodes, these artificial cortical networks are still far from simulating human intelligence. Research into these and other brain structures is expected to lead to greater levels</td>\n",
              "    </tr>\n",
              "    <tr>\n",
              "      <th>6</th>\n",
              "      <td>Like the composition of the brain, which contains many different structures, it may be necessary to use different types of neural networks to perform specific functions. The neocortex is just one part of the brain responsible for cognition and intelligence. It has massive connections to the thalamus, the hippocampus and the cerebellum, all examples of brain regions important for different cognitive aspects.</td>\n",
              "      <td>The neocortex is just one part of the brain responsible for cognition and intelligence. It has massive connections to the thalamus, the hippocampus and the cerebell</td>\n",
              "    </tr>\n",
              "    <tr>\n",
              "      <th>7</th>\n",
              "      <td>Modeling these regions and the neocortex could lead to more advanced AI systems. The thalamus is the central hub that receives sensory information in the brain. Modeling the thalamus could improve the ability of AI to process sensory information, such as auditory, tactile and visual data.</td>\n",
              "      <td>The thalamus is the central hub that receives sensory information in the brain. Modeling these regions and the neocortex could lead to more advanced AI systems.</td>\n",
              "    </tr>\n",
              "    <tr>\n",
              "      <th>8</th>\n",
              "      <td>The hippocampus is involved in spatial navigation and the creation of long-term memories. Modeling the hippocampus's functions could improve AI systems' ability to learn and selectively form long-term memory.</td>\n",
              "      <td>The hippocampus is involved in spatial navigation and the creation of long-term memories. Modeling the hippocampus's functions could improve AI systems' ability to learn and selectively</td>\n",
              "    </tr>\n",
              "    <tr>\n",
              "      <th>9</th>\n",
              "      <td>The cerebellum has massive connections to all regions of the neocortex. Modeling the cerebellum could lead to the simultaneous processing of incoming data while the AI is learning something new, like driving a car.</td>\n",
              "      <td>Modeling the cerebellum could lead to the simultaneous processing of incoming data while the AI is learning something new, like driving a car.</td>\n",
              "    </tr>\n",
              "    <tr>\n",
              "      <th>10</th>\n",
              "      <td>While the neuroscience understanding of these brain regions is still incomplete, sufficient information is available to build models that may answer open questions and fill in some of the blanks through experimentation. One day, cortical neuromorphic neural networks may displace the neural networks driving artificial intelligence today and have been responsible for its many successes.</td>\n",
              "      <td>Neuroscience understanding of these brain regions is still incomplete. One day, cortical neuromorphic neural networks may displace the neural networks driving artificial intelligence today.</td>\n",
              "    </tr>\n",
              "    <tr>\n",
              "      <th>11</th>\n",
              "      <td>One key difference is their training method. Current neural networks require millions of examples and an error feedback algorithm to adjust the parameters. These training sessions can take weeks using expensive, powerful computers costing millions.</td>\n",
              "      <td>Current neural networks require millions of examples and an error feedback algorithm. These training sessions can take weeks using expensive, powerful computers costing millions.</td>\n",
              "    </tr>\n",
              "    <tr>\n",
              "      <th>12</th>\n",
              "      <td>Cortical neuromorphic neural networks learn from few examples and are thus cheaper to deploy. Neuromorphic processing eliminates the need for colossal computer resources. Continuous learning adds experience, creating more accurate outcomes.</td>\n",
              "      <td>Neuromorphic processing eliminates the need for colossal computer resources. Continuous learning adds experience, creating more accurate outcomes. Cortical neuromorphic neural networks learn from few examples</td>\n",
              "    </tr>\n",
              "    <tr>\n",
              "      <th>13</th>\n",
              "      <td>Cortical neural networks are expected to be used in products that range from speech recognition to image processing, space exploration, healthcare, and robotics within the next five years. The development of cortical neural networks may lead to the emergence of artificial general intelligence (AGI), the holy grail of artificial intelligence. Humanity will benefit from the emergence of AGI in turbocharging the global economy in providing a multiplier for human ingenuity and safety. AGI is likely to benefit humankind much like previous economic revolutions. The internet and computers changed the way we do business. There will be a similar shift in how humans occupy their time in the future.</td>\n",
              "      <td>Cortical neural networks are expected to be used in products that range from speech recognition to image processing, space exploration, healthcare, and robotics. The development of</td>\n",
              "    </tr>\n",
              "    <tr>\n",
              "      <th>14</th>\n",
              "      <td>AI is a fast-moving field, and companies cannot afford to stand still. To enable personnel, it is imperative to take action now to enable employees to upgrade their skills to meet the challenges of the future. Seek out opportunities to train your employees on this new technology in order to fully embrace it across your organization.</td>\n",
              "      <td>AI is a fast-moving field, and companies cannot afford to stand still. To enable personnel, it is imperative to take action now to enable employees to upgrade</td>\n",
              "    </tr>\n",
              "  </tbody>\n",
              "</table>\n",
              "</div>"
            ],
            "text/plain": [
              "                                                                                                                                                                                                                                                                                                                                                                                                                                                                                                                                                                                                                                                                                                                    Paragraph  \\\n",
              "0                                                            The artificial intelligence (AI) revolution is upon us, and companies must prepare to adapt to this change. It is important to make an inventory of the current skills within the company to identify which additional skills the employees need to learn. The company does well in developing an AI strategy to outline the areas where AI is most effective, whether in a product or a service. Failing to act inevitably means falling behind. The training should include an introduction to AI, its capabilities, and its shortcomings (AI is only as good as its training data). This article gives a view of the current state of AI and what lies ahead.   \n",
              "1                                                                                                                                                                                                                    Neural networks have grown from a few million to nearly 200 billion parameters. Each parameter must be computed, causing an increasingly great demand for high-performance computing resources and energy. Artificial intelligence programs have beaten humans at chess and in the more complicated game of Go. Programs such as ChatGPT can weave exciting stories and answer complex questions. Training a large network can take months on powerful servers with hundreds of thousands of processors.   \n",
              "2                                                                                                                                                                                                                                                                                                                                                                                                                                                                          The increase in computational resources has made new AI tools and neural networks possible. However, the neural networks responsible for all these impressive results are unaware of what they are doing. There is no awareness, just computation.   \n",
              "3                                                                                                                                                                                                                                                                                                                    Machine learning is a subset of artificial intelligence. Training algorithms need vast data sets to create good-quality parameters that define the function and accuracy of a neural network. Machine learning continues to advance as more data becomes available and algorithms become more sophisticated. AI is used in many fields, including healthcare, finance, manufacturing and transportation.   \n",
              "4                                                                                                                          One of the most promising new technologies is neuromorphic processing. Neuromorphic means \"like the brain.\" Dedicated circuits are used to mimic the way dynamic cells in the brain operate. They do not run any programs but are capable of learning, and just like actual brain cells, they all work simultaneously rather than sequentially. Neuromorphic cortical models of artificial intelligence are based on the structure and function of the neocortex, the brain's outer region responsible for complex cognitive processes and are small, faster and less power-hungry than computers.   \n",
              "5                                                                                                                                                                                                                                                                                                                                                                                                                   Research into these and other brain structures is expected to lead to greater levels of intelligence and better cognitive performance than in previous types of artificial intelligence. With several million nodes, these artificial cortical networks are still far from simulating human intelligence.   \n",
              "6                                                                                                                                                                                                                                                                                                  Like the composition of the brain, which contains many different structures, it may be necessary to use different types of neural networks to perform specific functions. The neocortex is just one part of the brain responsible for cognition and intelligence. It has massive connections to the thalamus, the hippocampus and the cerebellum, all examples of brain regions important for different cognitive aspects.   \n",
              "7                                                                                                                                                                                                                                                                                                                                                                                                                           Modeling these regions and the neocortex could lead to more advanced AI systems. The thalamus is the central hub that receives sensory information in the brain. Modeling the thalamus could improve the ability of AI to process sensory information, such as auditory, tactile and visual data.   \n",
              "8                                                                                                                                                                                                                                                                                                                                                                                                                                                                                                            The hippocampus is involved in spatial navigation and the creation of long-term memories. Modeling the hippocampus's functions could improve AI systems' ability to learn and selectively form long-term memory.   \n",
              "9                                                                                                                                                                                                                                                                                                                                                                                                                                                                                                      The cerebellum has massive connections to all regions of the neocortex. Modeling the cerebellum could lead to the simultaneous processing of incoming data while the AI is learning something new, like driving a car.   \n",
              "10                                                                                                                                                                                                                                                                                                                        While the neuroscience understanding of these brain regions is still incomplete, sufficient information is available to build models that may answer open questions and fill in some of the blanks through experimentation. One day, cortical neuromorphic neural networks may displace the neural networks driving artificial intelligence today and have been responsible for its many successes.   \n",
              "11                                                                                                                                                                                                                                                                                                                                                                                                                                                                   One key difference is their training method. Current neural networks require millions of examples and an error feedback algorithm to adjust the parameters. These training sessions can take weeks using expensive, powerful computers costing millions.   \n",
              "12                                                                                                                                                                                                                                                                                                                                                                                                                                                                           Cortical neuromorphic neural networks learn from few examples and are thus cheaper to deploy. Neuromorphic processing eliminates the need for colossal computer resources. Continuous learning adds experience, creating more accurate outcomes.   \n",
              "13  Cortical neural networks are expected to be used in products that range from speech recognition to image processing, space exploration, healthcare, and robotics within the next five years. The development of cortical neural networks may lead to the emergence of artificial general intelligence (AGI), the holy grail of artificial intelligence. Humanity will benefit from the emergence of AGI in turbocharging the global economy in providing a multiplier for human ingenuity and safety. AGI is likely to benefit humankind much like previous economic revolutions. The internet and computers changed the way we do business. There will be a similar shift in how humans occupy their time in the future.   \n",
              "14                                                                                                                                                                                                                                                                                                                                                                             AI is a fast-moving field, and companies cannot afford to stand still. To enable personnel, it is imperative to take action now to enable employees to upgrade their skills to meet the challenges of the future. Seek out opportunities to train your employees on this new technology in order to fully embrace it across your organization.   \n",
              "\n",
              "                                                                                                                                                                                                             Summary  \n",
              "0                                             The artificial intelligence (AI) revolution is upon us, and companies must prepare to adapt to this change. It is important to make an inventory of the current skills  \n",
              "1                             Neural networks have grown from a few million to nearly 200 billion parameters. Training a large network can take months on powerful servers with hundreds of thousands of processors.  \n",
              "2                     The neural networks responsible for all these impressive results are unaware of what they are doing. There is no awareness, just computation. The increase in computational resources has made  \n",
              "3           Machine learning is a subset of artificial intelligence. Training algorithms need vast data sets to create good-quality parameters. Machine learning continues to advance as more data becomes available  \n",
              "4                                   Dedicated circuits are used to mimic the way dynamic cells in the brain operate. Neuromorphic cortical models of artificial intelligence are based on the structure and function  \n",
              "5              With several million nodes, these artificial cortical networks are still far from simulating human intelligence. Research into these and other brain structures is expected to lead to greater levels  \n",
              "6                                               The neocortex is just one part of the brain responsible for cognition and intelligence. It has massive connections to the thalamus, the hippocampus and the cerebell  \n",
              "7                                                   The thalamus is the central hub that receives sensory information in the brain. Modeling these regions and the neocortex could lead to more advanced AI systems.  \n",
              "8                          The hippocampus is involved in spatial navigation and the creation of long-term memories. Modeling the hippocampus's functions could improve AI systems' ability to learn and selectively  \n",
              "9                                                                     Modeling the cerebellum could lead to the simultaneous processing of incoming data while the AI is learning something new, like driving a car.  \n",
              "10                     Neuroscience understanding of these brain regions is still incomplete. One day, cortical neuromorphic neural networks may displace the neural networks driving artificial intelligence today.  \n",
              "11                                Current neural networks require millions of examples and an error feedback algorithm. These training sessions can take weeks using expensive, powerful computers costing millions.  \n",
              "12  Neuromorphic processing eliminates the need for colossal computer resources. Continuous learning adds experience, creating more accurate outcomes. Cortical neuromorphic neural networks learn from few examples  \n",
              "13                              Cortical neural networks are expected to be used in products that range from speech recognition to image processing, space exploration, healthcare, and robotics. The development of  \n",
              "14                                                    AI is a fast-moving field, and companies cannot afford to stand still. To enable personnel, it is imperative to take action now to enable employees to upgrade  "
            ]
          },
          "execution_count": 10,
          "metadata": {},
          "output_type": "execute_result"
        }
      ],
      "source": [
        "summaryDF = get_dataframe(cleanText, summary)\n",
        "summaryDF"
      ]
    },
    {
      "cell_type": "code",
      "execution_count": 17,
      "metadata": {
        "id": "mvc3-ajnLI1x"
      },
      "outputs": [
        {
          "data": {
            "text/plain": [
              "{'rouge1': 0.6798724768492008,\n",
              " 'rouge2': 0.6561161322054998,\n",
              " 'rougeL': 0.6038435063784247,\n",
              " 'rougeLsum': 0.6024761735335383}"
            ]
          },
          "execution_count": 17,
          "metadata": {},
          "output_type": "execute_result"
        }
      ],
      "source": [
        "rouge = evaluate.load('rouge')\n",
        "candidates = summaryDF['Summary']\n",
        "references = summaryDF['Paragraph']\n",
        "results = rouge.compute(predictions=candidates, references=references)\n",
        "results"
      ]
    }
  ],
  "metadata": {
    "colab": {
      "provenance": []
    },
    "kernelspec": {
      "display_name": "Python 3",
      "name": "python3"
    },
    "language_info": {
      "codemirror_mode": {
        "name": "ipython",
        "version": 3
      },
      "file_extension": ".py",
      "mimetype": "text/x-python",
      "name": "python",
      "nbconvert_exporter": "python",
      "pygments_lexer": "ipython3",
      "version": "3.12.3"
    }
  },
  "nbformat": 4,
  "nbformat_minor": 0
}
