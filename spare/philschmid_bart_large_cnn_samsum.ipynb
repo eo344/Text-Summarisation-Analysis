{
  "cells": [
    {
      "cell_type": "code",
      "execution_count": 1,
      "metadata": {
        "id": "PrUF28AmZLvq"
      },
      "outputs": [
        {
          "name": "stdout",
          "output_type": "stream",
          "text": [
            "Defaulting to user installation because normal site-packages is not writeableNote: you may need to restart the kernel to use updated packages.\n",
            "\n",
            "Requirement already satisfied: tensorflow in c:\\users\\eolor\\appdata\\local\\packages\\pythonsoftwarefoundation.python.3.12_qbz5n2kfra8p0\\localcache\\local-packages\\python312\\site-packages (2.16.1)\n",
            "Requirement already satisfied: tensorflow-intel==2.16.1 in c:\\users\\eolor\\appdata\\local\\packages\\pythonsoftwarefoundation.python.3.12_qbz5n2kfra8p0\\localcache\\local-packages\\python312\\site-packages (from tensorflow) (2.16.1)\n",
            "Requirement already satisfied: absl-py>=1.0.0 in c:\\users\\eolor\\appdata\\local\\packages\\pythonsoftwarefoundation.python.3.12_qbz5n2kfra8p0\\localcache\\local-packages\\python312\\site-packages (from tensorflow-intel==2.16.1->tensorflow) (2.1.0)\n",
            "Requirement already satisfied: astunparse>=1.6.0 in c:\\users\\eolor\\appdata\\local\\packages\\pythonsoftwarefoundation.python.3.12_qbz5n2kfra8p0\\localcache\\local-packages\\python312\\site-packages (from tensorflow-intel==2.16.1->tensorflow) (1.6.3)\n",
            "Requirement already satisfied: flatbuffers>=23.5.26 in c:\\users\\eolor\\appdata\\local\\packages\\pythonsoftwarefoundation.python.3.12_qbz5n2kfra8p0\\localcache\\local-packages\\python312\\site-packages (from tensorflow-intel==2.16.1->tensorflow) (24.3.25)\n",
            "Requirement already satisfied: gast!=0.5.0,!=0.5.1,!=0.5.2,>=0.2.1 in c:\\users\\eolor\\appdata\\local\\packages\\pythonsoftwarefoundation.python.3.12_qbz5n2kfra8p0\\localcache\\local-packages\\python312\\site-packages (from tensorflow-intel==2.16.1->tensorflow) (0.5.4)\n",
            "Requirement already satisfied: google-pasta>=0.1.1 in c:\\users\\eolor\\appdata\\local\\packages\\pythonsoftwarefoundation.python.3.12_qbz5n2kfra8p0\\localcache\\local-packages\\python312\\site-packages (from tensorflow-intel==2.16.1->tensorflow) (0.2.0)\n",
            "Requirement already satisfied: h5py>=3.10.0 in c:\\users\\eolor\\appdata\\local\\packages\\pythonsoftwarefoundation.python.3.12_qbz5n2kfra8p0\\localcache\\local-packages\\python312\\site-packages (from tensorflow-intel==2.16.1->tensorflow) (3.11.0)\n",
            "Requirement already satisfied: libclang>=13.0.0 in c:\\users\\eolor\\appdata\\local\\packages\\pythonsoftwarefoundation.python.3.12_qbz5n2kfra8p0\\localcache\\local-packages\\python312\\site-packages (from tensorflow-intel==2.16.1->tensorflow) (18.1.1)\n",
            "Requirement already satisfied: ml-dtypes~=0.3.1 in c:\\users\\eolor\\appdata\\local\\packages\\pythonsoftwarefoundation.python.3.12_qbz5n2kfra8p0\\localcache\\local-packages\\python312\\site-packages (from tensorflow-intel==2.16.1->tensorflow) (0.3.2)\n",
            "Requirement already satisfied: opt-einsum>=2.3.2 in c:\\users\\eolor\\appdata\\local\\packages\\pythonsoftwarefoundation.python.3.12_qbz5n2kfra8p0\\localcache\\local-packages\\python312\\site-packages (from tensorflow-intel==2.16.1->tensorflow) (3.3.0)\n",
            "Requirement already satisfied: packaging in c:\\users\\eolor\\appdata\\local\\packages\\pythonsoftwarefoundation.python.3.12_qbz5n2kfra8p0\\localcache\\local-packages\\python312\\site-packages (from tensorflow-intel==2.16.1->tensorflow) (24.0)\n",
            "Requirement already satisfied: protobuf!=4.21.0,!=4.21.1,!=4.21.2,!=4.21.3,!=4.21.4,!=4.21.5,<5.0.0dev,>=3.20.3 in c:\\users\\eolor\\appdata\\local\\packages\\pythonsoftwarefoundation.python.3.12_qbz5n2kfra8p0\\localcache\\local-packages\\python312\\site-packages (from tensorflow-intel==2.16.1->tensorflow) (4.25.3)\n",
            "Requirement already satisfied: requests<3,>=2.21.0 in c:\\users\\eolor\\appdata\\local\\packages\\pythonsoftwarefoundation.python.3.12_qbz5n2kfra8p0\\localcache\\local-packages\\python312\\site-packages (from tensorflow-intel==2.16.1->tensorflow) (2.31.0)\n",
            "Requirement already satisfied: setuptools in c:\\users\\eolor\\appdata\\local\\packages\\pythonsoftwarefoundation.python.3.12_qbz5n2kfra8p0\\localcache\\local-packages\\python312\\site-packages (from tensorflow-intel==2.16.1->tensorflow) (69.5.1)\n",
            "Requirement already satisfied: six>=1.12.0 in c:\\users\\eolor\\appdata\\local\\packages\\pythonsoftwarefoundation.python.3.12_qbz5n2kfra8p0\\localcache\\local-packages\\python312\\site-packages (from tensorflow-intel==2.16.1->tensorflow) (1.16.0)\n",
            "Requirement already satisfied: termcolor>=1.1.0 in c:\\users\\eolor\\appdata\\local\\packages\\pythonsoftwarefoundation.python.3.12_qbz5n2kfra8p0\\localcache\\local-packages\\python312\\site-packages (from tensorflow-intel==2.16.1->tensorflow) (2.4.0)\n",
            "Requirement already satisfied: typing-extensions>=3.6.6 in c:\\users\\eolor\\appdata\\local\\packages\\pythonsoftwarefoundation.python.3.12_qbz5n2kfra8p0\\localcache\\local-packages\\python312\\site-packages (from tensorflow-intel==2.16.1->tensorflow) (4.11.0)\n",
            "Requirement already satisfied: wrapt>=1.11.0 in c:\\users\\eolor\\appdata\\local\\packages\\pythonsoftwarefoundation.python.3.12_qbz5n2kfra8p0\\localcache\\local-packages\\python312\\site-packages (from tensorflow-intel==2.16.1->tensorflow) (1.16.0)\n",
            "Requirement already satisfied: grpcio<2.0,>=1.24.3 in c:\\users\\eolor\\appdata\\local\\packages\\pythonsoftwarefoundation.python.3.12_qbz5n2kfra8p0\\localcache\\local-packages\\python312\\site-packages (from tensorflow-intel==2.16.1->tensorflow) (1.63.0)\n",
            "Requirement already satisfied: tensorboard<2.17,>=2.16 in c:\\users\\eolor\\appdata\\local\\packages\\pythonsoftwarefoundation.python.3.12_qbz5n2kfra8p0\\localcache\\local-packages\\python312\\site-packages (from tensorflow-intel==2.16.1->tensorflow) (2.16.2)\n",
            "Requirement already satisfied: keras>=3.0.0 in c:\\users\\eolor\\appdata\\local\\packages\\pythonsoftwarefoundation.python.3.12_qbz5n2kfra8p0\\localcache\\local-packages\\python312\\site-packages (from tensorflow-intel==2.16.1->tensorflow) (3.3.3)\n",
            "Requirement already satisfied: numpy<2.0.0,>=1.26.0 in c:\\users\\eolor\\appdata\\local\\packages\\pythonsoftwarefoundation.python.3.12_qbz5n2kfra8p0\\localcache\\local-packages\\python312\\site-packages (from tensorflow-intel==2.16.1->tensorflow) (1.26.4)\n",
            "Requirement already satisfied: wheel<1.0,>=0.23.0 in c:\\users\\eolor\\appdata\\local\\packages\\pythonsoftwarefoundation.python.3.12_qbz5n2kfra8p0\\localcache\\local-packages\\python312\\site-packages (from astunparse>=1.6.0->tensorflow-intel==2.16.1->tensorflow) (0.43.0)\n",
            "Requirement already satisfied: rich in c:\\users\\eolor\\appdata\\local\\packages\\pythonsoftwarefoundation.python.3.12_qbz5n2kfra8p0\\localcache\\local-packages\\python312\\site-packages (from keras>=3.0.0->tensorflow-intel==2.16.1->tensorflow) (13.7.1)\n",
            "Requirement already satisfied: namex in c:\\users\\eolor\\appdata\\local\\packages\\pythonsoftwarefoundation.python.3.12_qbz5n2kfra8p0\\localcache\\local-packages\\python312\\site-packages (from keras>=3.0.0->tensorflow-intel==2.16.1->tensorflow) (0.0.8)\n",
            "Requirement already satisfied: optree in c:\\users\\eolor\\appdata\\local\\packages\\pythonsoftwarefoundation.python.3.12_qbz5n2kfra8p0\\localcache\\local-packages\\python312\\site-packages (from keras>=3.0.0->tensorflow-intel==2.16.1->tensorflow) (0.11.0)\n",
            "Requirement already satisfied: charset-normalizer<4,>=2 in c:\\users\\eolor\\appdata\\local\\packages\\pythonsoftwarefoundation.python.3.12_qbz5n2kfra8p0\\localcache\\local-packages\\python312\\site-packages (from requests<3,>=2.21.0->tensorflow-intel==2.16.1->tensorflow) (3.3.2)\n",
            "Requirement already satisfied: idna<4,>=2.5 in c:\\users\\eolor\\appdata\\local\\packages\\pythonsoftwarefoundation.python.3.12_qbz5n2kfra8p0\\localcache\\local-packages\\python312\\site-packages (from requests<3,>=2.21.0->tensorflow-intel==2.16.1->tensorflow) (3.7)\n",
            "Requirement already satisfied: urllib3<3,>=1.21.1 in c:\\users\\eolor\\appdata\\local\\packages\\pythonsoftwarefoundation.python.3.12_qbz5n2kfra8p0\\localcache\\local-packages\\python312\\site-packages (from requests<3,>=2.21.0->tensorflow-intel==2.16.1->tensorflow) (2.2.1)\n",
            "Requirement already satisfied: certifi>=2017.4.17 in c:\\users\\eolor\\appdata\\local\\packages\\pythonsoftwarefoundation.python.3.12_qbz5n2kfra8p0\\localcache\\local-packages\\python312\\site-packages (from requests<3,>=2.21.0->tensorflow-intel==2.16.1->tensorflow) (2024.2.2)\n",
            "Requirement already satisfied: markdown>=2.6.8 in c:\\users\\eolor\\appdata\\local\\packages\\pythonsoftwarefoundation.python.3.12_qbz5n2kfra8p0\\localcache\\local-packages\\python312\\site-packages (from tensorboard<2.17,>=2.16->tensorflow-intel==2.16.1->tensorflow) (3.6)\n",
            "Requirement already satisfied: tensorboard-data-server<0.8.0,>=0.7.0 in c:\\users\\eolor\\appdata\\local\\packages\\pythonsoftwarefoundation.python.3.12_qbz5n2kfra8p0\\localcache\\local-packages\\python312\\site-packages (from tensorboard<2.17,>=2.16->tensorflow-intel==2.16.1->tensorflow) (0.7.2)\n",
            "Requirement already satisfied: werkzeug>=1.0.1 in c:\\users\\eolor\\appdata\\local\\packages\\pythonsoftwarefoundation.python.3.12_qbz5n2kfra8p0\\localcache\\local-packages\\python312\\site-packages (from tensorboard<2.17,>=2.16->tensorflow-intel==2.16.1->tensorflow) (3.0.2)\n",
            "Requirement already satisfied: MarkupSafe>=2.1.1 in c:\\users\\eolor\\appdata\\local\\packages\\pythonsoftwarefoundation.python.3.12_qbz5n2kfra8p0\\localcache\\local-packages\\python312\\site-packages (from werkzeug>=1.0.1->tensorboard<2.17,>=2.16->tensorflow-intel==2.16.1->tensorflow) (2.1.5)\n",
            "Requirement already satisfied: markdown-it-py>=2.2.0 in c:\\users\\eolor\\appdata\\local\\packages\\pythonsoftwarefoundation.python.3.12_qbz5n2kfra8p0\\localcache\\local-packages\\python312\\site-packages (from rich->keras>=3.0.0->tensorflow-intel==2.16.1->tensorflow) (3.0.0)\n",
            "Requirement already satisfied: pygments<3.0.0,>=2.13.0 in c:\\users\\eolor\\appdata\\local\\packages\\pythonsoftwarefoundation.python.3.12_qbz5n2kfra8p0\\localcache\\local-packages\\python312\\site-packages (from rich->keras>=3.0.0->tensorflow-intel==2.16.1->tensorflow) (2.17.2)\n",
            "Requirement already satisfied: mdurl~=0.1 in c:\\users\\eolor\\appdata\\local\\packages\\pythonsoftwarefoundation.python.3.12_qbz5n2kfra8p0\\localcache\\local-packages\\python312\\site-packages (from markdown-it-py>=2.2.0->rich->keras>=3.0.0->tensorflow-intel==2.16.1->tensorflow) (0.1.2)\n"
          ]
        }
      ],
      "source": [
        "pip install tensorflow"
      ]
    },
    {
      "cell_type": "code",
      "execution_count": 2,
      "metadata": {
        "id": "lQRrm7j0NKD_"
      },
      "outputs": [
        {
          "name": "stdout",
          "output_type": "stream",
          "text": [
            "Defaulting to user installation because normal site-packages is not writeable\n",
            "Requirement already satisfied: bs4 in c:\\users\\eolor\\appdata\\local\\packages\\pythonsoftwarefoundation.python.3.12_qbz5n2kfra8p0\\localcache\\local-packages\\python312\\site-packages (0.0.2)\n",
            "Requirement already satisfied: beautifulsoup4 in c:\\users\\eolor\\appdata\\local\\packages\\pythonsoftwarefoundation.python.3.12_qbz5n2kfra8p0\\localcache\\local-packages\\python312\\site-packages (from bs4) (4.12.3)\n",
            "Requirement already satisfied: soupsieve>1.2 in c:\\users\\eolor\\appdata\\local\\packages\\pythonsoftwarefoundation.python.3.12_qbz5n2kfra8p0\\localcache\\local-packages\\python312\\site-packages (from beautifulsoup4->bs4) (2.5)\n",
            "Note: you may need to restart the kernel to use updated packages.\n"
          ]
        }
      ],
      "source": [
        "pip install bs4"
      ]
    },
    {
      "cell_type": "code",
      "execution_count": 3,
      "metadata": {
        "id": "it7E5fE_NLiP"
      },
      "outputs": [
        {
          "name": "stdout",
          "output_type": "stream",
          "text": [
            "Defaulting to user installation because normal site-packages is not writeable\n",
            "Requirement already satisfied: requests in c:\\users\\eolor\\appdata\\local\\packages\\pythonsoftwarefoundation.python.3.12_qbz5n2kfra8p0\\localcache\\local-packages\\python312\\site-packages (2.31.0)\n",
            "Requirement already satisfied: charset-normalizer<4,>=2 in c:\\users\\eolor\\appdata\\local\\packages\\pythonsoftwarefoundation.python.3.12_qbz5n2kfra8p0\\localcache\\local-packages\\python312\\site-packages (from requests) (3.3.2)\n",
            "Requirement already satisfied: idna<4,>=2.5 in c:\\users\\eolor\\appdata\\local\\packages\\pythonsoftwarefoundation.python.3.12_qbz5n2kfra8p0\\localcache\\local-packages\\python312\\site-packages (from requests) (3.7)\n",
            "Requirement already satisfied: urllib3<3,>=1.21.1 in c:\\users\\eolor\\appdata\\local\\packages\\pythonsoftwarefoundation.python.3.12_qbz5n2kfra8p0\\localcache\\local-packages\\python312\\site-packages (from requests) (2.2.1)\n",
            "Requirement already satisfied: certifi>=2017.4.17 in c:\\users\\eolor\\appdata\\local\\packages\\pythonsoftwarefoundation.python.3.12_qbz5n2kfra8p0\\localcache\\local-packages\\python312\\site-packages (from requests) (2024.2.2)\n",
            "Note: you may need to restart the kernel to use updated packages.\n"
          ]
        }
      ],
      "source": [
        "pip install requests"
      ]
    },
    {
      "cell_type": "code",
      "execution_count": 4,
      "metadata": {
        "id": "dKJvbnvnNM4O"
      },
      "outputs": [
        {
          "name": "stdout",
          "output_type": "stream",
          "text": [
            "Defaulting to user installation because normal site-packages is not writeable\n",
            "Requirement already satisfied: transformers in c:\\users\\eolor\\appdata\\local\\packages\\pythonsoftwarefoundation.python.3.12_qbz5n2kfra8p0\\localcache\\local-packages\\python312\\site-packages (4.40.1)\n",
            "Requirement already satisfied: filelock in c:\\users\\eolor\\appdata\\local\\packages\\pythonsoftwarefoundation.python.3.12_qbz5n2kfra8p0\\localcache\\local-packages\\python312\\site-packages (from transformers) (3.14.0)\n",
            "Requirement already satisfied: huggingface-hub<1.0,>=0.19.3 in c:\\users\\eolor\\appdata\\local\\packages\\pythonsoftwarefoundation.python.3.12_qbz5n2kfra8p0\\localcache\\local-packages\\python312\\site-packages (from transformers) (0.22.2)\n",
            "Requirement already satisfied: numpy>=1.17 in c:\\users\\eolor\\appdata\\local\\packages\\pythonsoftwarefoundation.python.3.12_qbz5n2kfra8p0\\localcache\\local-packages\\python312\\site-packages (from transformers) (1.26.4)\n",
            "Requirement already satisfied: packaging>=20.0 in c:\\users\\eolor\\appdata\\local\\packages\\pythonsoftwarefoundation.python.3.12_qbz5n2kfra8p0\\localcache\\local-packages\\python312\\site-packages (from transformers) (24.0)\n",
            "Requirement already satisfied: pyyaml>=5.1 in c:\\users\\eolor\\appdata\\local\\packages\\pythonsoftwarefoundation.python.3.12_qbz5n2kfra8p0\\localcache\\local-packages\\python312\\site-packages (from transformers) (6.0.1)\n",
            "Requirement already satisfied: regex!=2019.12.17 in c:\\users\\eolor\\appdata\\local\\packages\\pythonsoftwarefoundation.python.3.12_qbz5n2kfra8p0\\localcache\\local-packages\\python312\\site-packages (from transformers) (2024.4.28)\n",
            "Requirement already satisfied: requests in c:\\users\\eolor\\appdata\\local\\packages\\pythonsoftwarefoundation.python.3.12_qbz5n2kfra8p0\\localcache\\local-packages\\python312\\site-packages (from transformers) (2.31.0)\n",
            "Requirement already satisfied: tokenizers<0.20,>=0.19 in c:\\users\\eolor\\appdata\\local\\packages\\pythonsoftwarefoundation.python.3.12_qbz5n2kfra8p0\\localcache\\local-packages\\python312\\site-packages (from transformers) (0.19.1)\n",
            "Requirement already satisfied: safetensors>=0.4.1 in c:\\users\\eolor\\appdata\\local\\packages\\pythonsoftwarefoundation.python.3.12_qbz5n2kfra8p0\\localcache\\local-packages\\python312\\site-packages (from transformers) (0.4.3)\n",
            "Requirement already satisfied: tqdm>=4.27 in c:\\users\\eolor\\appdata\\local\\packages\\pythonsoftwarefoundation.python.3.12_qbz5n2kfra8p0\\localcache\\local-packages\\python312\\site-packages (from transformers) (4.66.2)\n",
            "Requirement already satisfied: fsspec>=2023.5.0 in c:\\users\\eolor\\appdata\\local\\packages\\pythonsoftwarefoundation.python.3.12_qbz5n2kfra8p0\\localcache\\local-packages\\python312\\site-packages (from huggingface-hub<1.0,>=0.19.3->transformers) (2024.3.1)\n",
            "Requirement already satisfied: typing-extensions>=3.7.4.3 in c:\\users\\eolor\\appdata\\local\\packages\\pythonsoftwarefoundation.python.3.12_qbz5n2kfra8p0\\localcache\\local-packages\\python312\\site-packages (from huggingface-hub<1.0,>=0.19.3->transformers) (4.11.0)\n",
            "Requirement already satisfied: colorama in c:\\users\\eolor\\appdata\\local\\packages\\pythonsoftwarefoundation.python.3.12_qbz5n2kfra8p0\\localcache\\local-packages\\python312\\site-packages (from tqdm>=4.27->transformers) (0.4.6)\n",
            "Requirement already satisfied: charset-normalizer<4,>=2 in c:\\users\\eolor\\appdata\\local\\packages\\pythonsoftwarefoundation.python.3.12_qbz5n2kfra8p0\\localcache\\local-packages\\python312\\site-packages (from requests->transformers) (3.3.2)\n",
            "Requirement already satisfied: idna<4,>=2.5 in c:\\users\\eolor\\appdata\\local\\packages\\pythonsoftwarefoundation.python.3.12_qbz5n2kfra8p0\\localcache\\local-packages\\python312\\site-packages (from requests->transformers) (3.7)\n",
            "Requirement already satisfied: urllib3<3,>=1.21.1 in c:\\users\\eolor\\appdata\\local\\packages\\pythonsoftwarefoundation.python.3.12_qbz5n2kfra8p0\\localcache\\local-packages\\python312\\site-packages (from requests->transformers) (2.2.1)\n",
            "Requirement already satisfied: certifi>=2017.4.17 in c:\\users\\eolor\\appdata\\local\\packages\\pythonsoftwarefoundation.python.3.12_qbz5n2kfra8p0\\localcache\\local-packages\\python312\\site-packages (from requests->transformers) (2024.2.2)\n",
            "Note: you may need to restart the kernel to use updated packages.\n"
          ]
        }
      ],
      "source": [
        "pip install transformers"
      ]
    },
    {
      "cell_type": "code",
      "execution_count": 5,
      "metadata": {
        "id": "88Hc3DLeNOLY"
      },
      "outputs": [
        {
          "name": "stdout",
          "output_type": "stream",
          "text": [
            "Defaulting to user installation because normal site-packages is not writeable\n",
            "Requirement already satisfied: pandas in c:\\users\\eolor\\appdata\\local\\packages\\pythonsoftwarefoundation.python.3.12_qbz5n2kfra8p0\\localcache\\local-packages\\python312\\site-packages (2.2.2)\n",
            "Requirement already satisfied: numpy>=1.26.0 in c:\\users\\eolor\\appdata\\local\\packages\\pythonsoftwarefoundation.python.3.12_qbz5n2kfra8p0\\localcache\\local-packages\\python312\\site-packages (from pandas) (1.26.4)\n",
            "Requirement already satisfied: python-dateutil>=2.8.2 in c:\\users\\eolor\\appdata\\local\\packages\\pythonsoftwarefoundation.python.3.12_qbz5n2kfra8p0\\localcache\\local-packages\\python312\\site-packages (from pandas) (2.9.0.post0)\n",
            "Requirement already satisfied: pytz>=2020.1 in c:\\users\\eolor\\appdata\\local\\packages\\pythonsoftwarefoundation.python.3.12_qbz5n2kfra8p0\\localcache\\local-packages\\python312\\site-packages (from pandas) (2024.1)\n",
            "Requirement already satisfied: tzdata>=2022.7 in c:\\users\\eolor\\appdata\\local\\packages\\pythonsoftwarefoundation.python.3.12_qbz5n2kfra8p0\\localcache\\local-packages\\python312\\site-packages (from pandas) (2024.1)\n",
            "Requirement already satisfied: six>=1.5 in c:\\users\\eolor\\appdata\\local\\packages\\pythonsoftwarefoundation.python.3.12_qbz5n2kfra8p0\\localcache\\local-packages\\python312\\site-packages (from python-dateutil>=2.8.2->pandas) (1.16.0)\n",
            "Note: you may need to restart the kernel to use updated packages.\n"
          ]
        }
      ],
      "source": [
        "pip install pandas"
      ]
    },
    {
      "cell_type": "code",
      "execution_count": 25,
      "metadata": {},
      "outputs": [
        {
          "name": "stdout",
          "output_type": "stream",
          "text": [
            "Defaulting to user installation because normal site-packages is not writeableNote: you may need to restart the kernel to use updated packages.\n",
            "\n",
            "Requirement already satisfied: evaluate in c:\\users\\eolor\\appdata\\local\\packages\\pythonsoftwarefoundation.python.3.12_qbz5n2kfra8p0\\localcache\\local-packages\\python312\\site-packages (0.4.2)\n",
            "Requirement already satisfied: datasets>=2.0.0 in c:\\users\\eolor\\appdata\\local\\packages\\pythonsoftwarefoundation.python.3.12_qbz5n2kfra8p0\\localcache\\local-packages\\python312\\site-packages (from evaluate) (2.19.0)\n",
            "Requirement already satisfied: numpy>=1.17 in c:\\users\\eolor\\appdata\\local\\packages\\pythonsoftwarefoundation.python.3.12_qbz5n2kfra8p0\\localcache\\local-packages\\python312\\site-packages (from evaluate) (1.26.4)\n",
            "Requirement already satisfied: dill in c:\\users\\eolor\\appdata\\local\\packages\\pythonsoftwarefoundation.python.3.12_qbz5n2kfra8p0\\localcache\\local-packages\\python312\\site-packages (from evaluate) (0.3.8)\n",
            "Requirement already satisfied: pandas in c:\\users\\eolor\\appdata\\local\\packages\\pythonsoftwarefoundation.python.3.12_qbz5n2kfra8p0\\localcache\\local-packages\\python312\\site-packages (from evaluate) (2.2.2)\n",
            "Requirement already satisfied: requests>=2.19.0 in c:\\users\\eolor\\appdata\\local\\packages\\pythonsoftwarefoundation.python.3.12_qbz5n2kfra8p0\\localcache\\local-packages\\python312\\site-packages (from evaluate) (2.31.0)\n",
            "Requirement already satisfied: tqdm>=4.62.1 in c:\\users\\eolor\\appdata\\local\\packages\\pythonsoftwarefoundation.python.3.12_qbz5n2kfra8p0\\localcache\\local-packages\\python312\\site-packages (from evaluate) (4.66.2)\n",
            "Requirement already satisfied: xxhash in c:\\users\\eolor\\appdata\\local\\packages\\pythonsoftwarefoundation.python.3.12_qbz5n2kfra8p0\\localcache\\local-packages\\python312\\site-packages (from evaluate) (3.4.1)\n",
            "Requirement already satisfied: multiprocess in c:\\users\\eolor\\appdata\\local\\packages\\pythonsoftwarefoundation.python.3.12_qbz5n2kfra8p0\\localcache\\local-packages\\python312\\site-packages (from evaluate) (0.70.16)\n",
            "Requirement already satisfied: fsspec>=2021.05.0 in c:\\users\\eolor\\appdata\\local\\packages\\pythonsoftwarefoundation.python.3.12_qbz5n2kfra8p0\\localcache\\local-packages\\python312\\site-packages (from fsspec[http]>=2021.05.0->evaluate) (2024.3.1)\n",
            "Requirement already satisfied: huggingface-hub>=0.7.0 in c:\\users\\eolor\\appdata\\local\\packages\\pythonsoftwarefoundation.python.3.12_qbz5n2kfra8p0\\localcache\\local-packages\\python312\\site-packages (from evaluate) (0.22.2)\n",
            "Requirement already satisfied: packaging in c:\\users\\eolor\\appdata\\local\\packages\\pythonsoftwarefoundation.python.3.12_qbz5n2kfra8p0\\localcache\\local-packages\\python312\\site-packages (from evaluate) (24.0)\n",
            "Requirement already satisfied: filelock in c:\\users\\eolor\\appdata\\local\\packages\\pythonsoftwarefoundation.python.3.12_qbz5n2kfra8p0\\localcache\\local-packages\\python312\\site-packages (from datasets>=2.0.0->evaluate) (3.14.0)\n",
            "Requirement already satisfied: pyarrow>=12.0.0 in c:\\users\\eolor\\appdata\\local\\packages\\pythonsoftwarefoundation.python.3.12_qbz5n2kfra8p0\\localcache\\local-packages\\python312\\site-packages (from datasets>=2.0.0->evaluate) (16.0.0)\n",
            "Requirement already satisfied: pyarrow-hotfix in c:\\users\\eolor\\appdata\\local\\packages\\pythonsoftwarefoundation.python.3.12_qbz5n2kfra8p0\\localcache\\local-packages\\python312\\site-packages (from datasets>=2.0.0->evaluate) (0.6)\n",
            "Requirement already satisfied: aiohttp in c:\\users\\eolor\\appdata\\local\\packages\\pythonsoftwarefoundation.python.3.12_qbz5n2kfra8p0\\localcache\\local-packages\\python312\\site-packages (from datasets>=2.0.0->evaluate) (3.9.5)\n",
            "Requirement already satisfied: pyyaml>=5.1 in c:\\users\\eolor\\appdata\\local\\packages\\pythonsoftwarefoundation.python.3.12_qbz5n2kfra8p0\\localcache\\local-packages\\python312\\site-packages (from datasets>=2.0.0->evaluate) (6.0.1)\n",
            "Requirement already satisfied: typing-extensions>=3.7.4.3 in c:\\users\\eolor\\appdata\\local\\packages\\pythonsoftwarefoundation.python.3.12_qbz5n2kfra8p0\\localcache\\local-packages\\python312\\site-packages (from huggingface-hub>=0.7.0->evaluate) (4.11.0)\n",
            "Requirement already satisfied: charset-normalizer<4,>=2 in c:\\users\\eolor\\appdata\\local\\packages\\pythonsoftwarefoundation.python.3.12_qbz5n2kfra8p0\\localcache\\local-packages\\python312\\site-packages (from requests>=2.19.0->evaluate) (3.3.2)\n",
            "Requirement already satisfied: idna<4,>=2.5 in c:\\users\\eolor\\appdata\\local\\packages\\pythonsoftwarefoundation.python.3.12_qbz5n2kfra8p0\\localcache\\local-packages\\python312\\site-packages (from requests>=2.19.0->evaluate) (3.7)\n",
            "Requirement already satisfied: urllib3<3,>=1.21.1 in c:\\users\\eolor\\appdata\\local\\packages\\pythonsoftwarefoundation.python.3.12_qbz5n2kfra8p0\\localcache\\local-packages\\python312\\site-packages (from requests>=2.19.0->evaluate) (2.2.1)\n",
            "Requirement already satisfied: certifi>=2017.4.17 in c:\\users\\eolor\\appdata\\local\\packages\\pythonsoftwarefoundation.python.3.12_qbz5n2kfra8p0\\localcache\\local-packages\\python312\\site-packages (from requests>=2.19.0->evaluate) (2024.2.2)\n",
            "Requirement already satisfied: colorama in c:\\users\\eolor\\appdata\\local\\packages\\pythonsoftwarefoundation.python.3.12_qbz5n2kfra8p0\\localcache\\local-packages\\python312\\site-packages (from tqdm>=4.62.1->evaluate) (0.4.6)\n",
            "Requirement already satisfied: python-dateutil>=2.8.2 in c:\\users\\eolor\\appdata\\local\\packages\\pythonsoftwarefoundation.python.3.12_qbz5n2kfra8p0\\localcache\\local-packages\\python312\\site-packages (from pandas->evaluate) (2.9.0.post0)\n",
            "Requirement already satisfied: pytz>=2020.1 in c:\\users\\eolor\\appdata\\local\\packages\\pythonsoftwarefoundation.python.3.12_qbz5n2kfra8p0\\localcache\\local-packages\\python312\\site-packages (from pandas->evaluate) (2024.1)\n",
            "Requirement already satisfied: tzdata>=2022.7 in c:\\users\\eolor\\appdata\\local\\packages\\pythonsoftwarefoundation.python.3.12_qbz5n2kfra8p0\\localcache\\local-packages\\python312\\site-packages (from pandas->evaluate) (2024.1)\n",
            "Requirement already satisfied: aiosignal>=1.1.2 in c:\\users\\eolor\\appdata\\local\\packages\\pythonsoftwarefoundation.python.3.12_qbz5n2kfra8p0\\localcache\\local-packages\\python312\\site-packages (from aiohttp->datasets>=2.0.0->evaluate) (1.3.1)\n",
            "Requirement already satisfied: attrs>=17.3.0 in c:\\users\\eolor\\appdata\\local\\packages\\pythonsoftwarefoundation.python.3.12_qbz5n2kfra8p0\\localcache\\local-packages\\python312\\site-packages (from aiohttp->datasets>=2.0.0->evaluate) (23.2.0)\n",
            "Requirement already satisfied: frozenlist>=1.1.1 in c:\\users\\eolor\\appdata\\local\\packages\\pythonsoftwarefoundation.python.3.12_qbz5n2kfra8p0\\localcache\\local-packages\\python312\\site-packages (from aiohttp->datasets>=2.0.0->evaluate) (1.4.1)\n",
            "Requirement already satisfied: multidict<7.0,>=4.5 in c:\\users\\eolor\\appdata\\local\\packages\\pythonsoftwarefoundation.python.3.12_qbz5n2kfra8p0\\localcache\\local-packages\\python312\\site-packages (from aiohttp->datasets>=2.0.0->evaluate) (6.0.5)\n",
            "Requirement already satisfied: yarl<2.0,>=1.0 in c:\\users\\eolor\\appdata\\local\\packages\\pythonsoftwarefoundation.python.3.12_qbz5n2kfra8p0\\localcache\\local-packages\\python312\\site-packages (from aiohttp->datasets>=2.0.0->evaluate) (1.9.4)\n",
            "Requirement already satisfied: six>=1.5 in c:\\users\\eolor\\appdata\\local\\packages\\pythonsoftwarefoundation.python.3.12_qbz5n2kfra8p0\\localcache\\local-packages\\python312\\site-packages (from python-dateutil>=2.8.2->pandas->evaluate) (1.16.0)\n"
          ]
        }
      ],
      "source": [
        "pip install evaluate"
      ]
    },
    {
      "cell_type": "code",
      "execution_count": 21,
      "metadata": {},
      "outputs": [
        {
          "name": "stdout",
          "output_type": "stream",
          "text": [
            "Defaulting to user installation because normal site-packages is not writeableNote: you may need to restart the kernel to use updated packages.\n",
            "\n",
            "Requirement already satisfied: nltk in c:\\users\\eolor\\appdata\\local\\packages\\pythonsoftwarefoundation.python.3.12_qbz5n2kfra8p0\\localcache\\local-packages\\python312\\site-packages (3.8.1)\n",
            "Requirement already satisfied: click in c:\\users\\eolor\\appdata\\local\\packages\\pythonsoftwarefoundation.python.3.12_qbz5n2kfra8p0\\localcache\\local-packages\\python312\\site-packages (from nltk) (8.1.7)\n",
            "Requirement already satisfied: joblib in c:\\users\\eolor\\appdata\\local\\packages\\pythonsoftwarefoundation.python.3.12_qbz5n2kfra8p0\\localcache\\local-packages\\python312\\site-packages (from nltk) (1.4.0)\n",
            "Requirement already satisfied: regex>=2021.8.3 in c:\\users\\eolor\\appdata\\local\\packages\\pythonsoftwarefoundation.python.3.12_qbz5n2kfra8p0\\localcache\\local-packages\\python312\\site-packages (from nltk) (2024.4.28)\n",
            "Requirement already satisfied: tqdm in c:\\users\\eolor\\appdata\\local\\packages\\pythonsoftwarefoundation.python.3.12_qbz5n2kfra8p0\\localcache\\local-packages\\python312\\site-packages (from nltk) (4.66.2)\n",
            "Requirement already satisfied: colorama in c:\\users\\eolor\\appdata\\local\\packages\\pythonsoftwarefoundation.python.3.12_qbz5n2kfra8p0\\localcache\\local-packages\\python312\\site-packages (from click->nltk) (0.4.6)\n"
          ]
        }
      ],
      "source": [
        "pip install nltk"
      ]
    },
    {
      "cell_type": "code",
      "execution_count": 22,
      "metadata": {},
      "outputs": [
        {
          "name": "stdout",
          "output_type": "stream",
          "text": [
            "Defaulting to user installation because normal site-packages is not writeable\n",
            "Requirement already satisfied: rouge_score in c:\\users\\eolor\\appdata\\local\\packages\\pythonsoftwarefoundation.python.3.12_qbz5n2kfra8p0\\localcache\\local-packages\\python312\\site-packages (0.1.2)\n",
            "Requirement already satisfied: absl-py in c:\\users\\eolor\\appdata\\local\\packages\\pythonsoftwarefoundation.python.3.12_qbz5n2kfra8p0\\localcache\\local-packages\\python312\\site-packages (from rouge_score) (2.1.0)\n",
            "Requirement already satisfied: nltk in c:\\users\\eolor\\appdata\\local\\packages\\pythonsoftwarefoundation.python.3.12_qbz5n2kfra8p0\\localcache\\local-packages\\python312\\site-packages (from rouge_score) (3.8.1)\n",
            "Requirement already satisfied: numpy in c:\\users\\eolor\\appdata\\local\\packages\\pythonsoftwarefoundation.python.3.12_qbz5n2kfra8p0\\localcache\\local-packages\\python312\\site-packages (from rouge_score) (1.26.4)\n",
            "Requirement already satisfied: six>=1.14.0 in c:\\users\\eolor\\appdata\\local\\packages\\pythonsoftwarefoundation.python.3.12_qbz5n2kfra8p0\\localcache\\local-packages\\python312\\site-packages (from rouge_score) (1.16.0)\n",
            "Requirement already satisfied: click in c:\\users\\eolor\\appdata\\local\\packages\\pythonsoftwarefoundation.python.3.12_qbz5n2kfra8p0\\localcache\\local-packages\\python312\\site-packages (from nltk->rouge_score) (8.1.7)\n",
            "Requirement already satisfied: joblib in c:\\users\\eolor\\appdata\\local\\packages\\pythonsoftwarefoundation.python.3.12_qbz5n2kfra8p0\\localcache\\local-packages\\python312\\site-packages (from nltk->rouge_score) (1.4.0)\n",
            "Requirement already satisfied: regex>=2021.8.3 in c:\\users\\eolor\\appdata\\local\\packages\\pythonsoftwarefoundation.python.3.12_qbz5n2kfra8p0\\localcache\\local-packages\\python312\\site-packages (from nltk->rouge_score) (2024.4.28)\n",
            "Requirement already satisfied: tqdm in c:\\users\\eolor\\appdata\\local\\packages\\pythonsoftwarefoundation.python.3.12_qbz5n2kfra8p0\\localcache\\local-packages\\python312\\site-packages (from nltk->rouge_score) (4.66.2)\n",
            "Requirement already satisfied: colorama in c:\\users\\eolor\\appdata\\local\\packages\\pythonsoftwarefoundation.python.3.12_qbz5n2kfra8p0\\localcache\\local-packages\\python312\\site-packages (from click->nltk->rouge_score) (0.4.6)\n",
            "Note: you may need to restart the kernel to use updated packages.\n"
          ]
        }
      ],
      "source": [
        "pip install rouge_score"
      ]
    },
    {
      "cell_type": "code",
      "execution_count": 36,
      "metadata": {},
      "outputs": [
        {
          "name": "stdout",
          "output_type": "stream",
          "text": [
            "Defaulting to user installation because normal site-packages is not writeableNote: you may need to restart the kernel to use updated packages.\n",
            "\n",
            "Requirement already satisfied: bert_score in c:\\users\\eolor\\appdata\\local\\packages\\pythonsoftwarefoundation.python.3.12_qbz5n2kfra8p0\\localcache\\local-packages\\python312\\site-packages (0.3.13)\n",
            "Requirement already satisfied: torch>=1.0.0 in c:\\users\\eolor\\appdata\\local\\packages\\pythonsoftwarefoundation.python.3.12_qbz5n2kfra8p0\\localcache\\local-packages\\python312\\site-packages (from bert_score) (2.3.0)\n",
            "Requirement already satisfied: pandas>=1.0.1 in c:\\users\\eolor\\appdata\\local\\packages\\pythonsoftwarefoundation.python.3.12_qbz5n2kfra8p0\\localcache\\local-packages\\python312\\site-packages (from bert_score) (2.2.2)\n",
            "Requirement already satisfied: transformers>=3.0.0 in c:\\users\\eolor\\appdata\\local\\packages\\pythonsoftwarefoundation.python.3.12_qbz5n2kfra8p0\\localcache\\local-packages\\python312\\site-packages (from bert_score) (4.40.1)\n",
            "Requirement already satisfied: numpy in c:\\users\\eolor\\appdata\\local\\packages\\pythonsoftwarefoundation.python.3.12_qbz5n2kfra8p0\\localcache\\local-packages\\python312\\site-packages (from bert_score) (1.26.4)\n",
            "Requirement already satisfied: requests in c:\\users\\eolor\\appdata\\local\\packages\\pythonsoftwarefoundation.python.3.12_qbz5n2kfra8p0\\localcache\\local-packages\\python312\\site-packages (from bert_score) (2.31.0)\n",
            "Requirement already satisfied: tqdm>=4.31.1 in c:\\users\\eolor\\appdata\\local\\packages\\pythonsoftwarefoundation.python.3.12_qbz5n2kfra8p0\\localcache\\local-packages\\python312\\site-packages (from bert_score) (4.66.2)\n",
            "Requirement already satisfied: matplotlib in c:\\users\\eolor\\appdata\\local\\packages\\pythonsoftwarefoundation.python.3.12_qbz5n2kfra8p0\\localcache\\local-packages\\python312\\site-packages (from bert_score) (3.8.4)\n",
            "Requirement already satisfied: packaging>=20.9 in c:\\users\\eolor\\appdata\\local\\packages\\pythonsoftwarefoundation.python.3.12_qbz5n2kfra8p0\\localcache\\local-packages\\python312\\site-packages (from bert_score) (24.0)\n",
            "Requirement already satisfied: python-dateutil>=2.8.2 in c:\\users\\eolor\\appdata\\local\\packages\\pythonsoftwarefoundation.python.3.12_qbz5n2kfra8p0\\localcache\\local-packages\\python312\\site-packages (from pandas>=1.0.1->bert_score) (2.9.0.post0)\n",
            "Requirement already satisfied: pytz>=2020.1 in c:\\users\\eolor\\appdata\\local\\packages\\pythonsoftwarefoundation.python.3.12_qbz5n2kfra8p0\\localcache\\local-packages\\python312\\site-packages (from pandas>=1.0.1->bert_score) (2024.1)\n",
            "Requirement already satisfied: tzdata>=2022.7 in c:\\users\\eolor\\appdata\\local\\packages\\pythonsoftwarefoundation.python.3.12_qbz5n2kfra8p0\\localcache\\local-packages\\python312\\site-packages (from pandas>=1.0.1->bert_score) (2024.1)\n",
            "Requirement already satisfied: filelock in c:\\users\\eolor\\appdata\\local\\packages\\pythonsoftwarefoundation.python.3.12_qbz5n2kfra8p0\\localcache\\local-packages\\python312\\site-packages (from torch>=1.0.0->bert_score) (3.14.0)\n",
            "Requirement already satisfied: typing-extensions>=4.8.0 in c:\\users\\eolor\\appdata\\local\\packages\\pythonsoftwarefoundation.python.3.12_qbz5n2kfra8p0\\localcache\\local-packages\\python312\\site-packages (from torch>=1.0.0->bert_score) (4.11.0)\n",
            "Requirement already satisfied: sympy in c:\\users\\eolor\\appdata\\local\\packages\\pythonsoftwarefoundation.python.3.12_qbz5n2kfra8p0\\localcache\\local-packages\\python312\\site-packages (from torch>=1.0.0->bert_score) (1.12)\n",
            "Requirement already satisfied: networkx in c:\\users\\eolor\\appdata\\local\\packages\\pythonsoftwarefoundation.python.3.12_qbz5n2kfra8p0\\localcache\\local-packages\\python312\\site-packages (from torch>=1.0.0->bert_score) (3.3)\n",
            "Requirement already satisfied: jinja2 in c:\\users\\eolor\\appdata\\local\\packages\\pythonsoftwarefoundation.python.3.12_qbz5n2kfra8p0\\localcache\\local-packages\\python312\\site-packages (from torch>=1.0.0->bert_score) (3.1.3)\n",
            "Requirement already satisfied: fsspec in c:\\users\\eolor\\appdata\\local\\packages\\pythonsoftwarefoundation.python.3.12_qbz5n2kfra8p0\\localcache\\local-packages\\python312\\site-packages (from torch>=1.0.0->bert_score) (2024.3.1)\n",
            "Requirement already satisfied: mkl<=2021.4.0,>=2021.1.1 in c:\\users\\eolor\\appdata\\local\\packages\\pythonsoftwarefoundation.python.3.12_qbz5n2kfra8p0\\localcache\\local-packages\\python312\\site-packages (from torch>=1.0.0->bert_score) (2021.4.0)\n",
            "Requirement already satisfied: colorama in c:\\users\\eolor\\appdata\\local\\packages\\pythonsoftwarefoundation.python.3.12_qbz5n2kfra8p0\\localcache\\local-packages\\python312\\site-packages (from tqdm>=4.31.1->bert_score) (0.4.6)\n",
            "Requirement already satisfied: huggingface-hub<1.0,>=0.19.3 in c:\\users\\eolor\\appdata\\local\\packages\\pythonsoftwarefoundation.python.3.12_qbz5n2kfra8p0\\localcache\\local-packages\\python312\\site-packages (from transformers>=3.0.0->bert_score) (0.22.2)\n",
            "Requirement already satisfied: pyyaml>=5.1 in c:\\users\\eolor\\appdata\\local\\packages\\pythonsoftwarefoundation.python.3.12_qbz5n2kfra8p0\\localcache\\local-packages\\python312\\site-packages (from transformers>=3.0.0->bert_score) (6.0.1)\n",
            "Requirement already satisfied: regex!=2019.12.17 in c:\\users\\eolor\\appdata\\local\\packages\\pythonsoftwarefoundation.python.3.12_qbz5n2kfra8p0\\localcache\\local-packages\\python312\\site-packages (from transformers>=3.0.0->bert_score) (2024.4.28)\n",
            "Requirement already satisfied: tokenizers<0.20,>=0.19 in c:\\users\\eolor\\appdata\\local\\packages\\pythonsoftwarefoundation.python.3.12_qbz5n2kfra8p0\\localcache\\local-packages\\python312\\site-packages (from transformers>=3.0.0->bert_score) (0.19.1)\n",
            "Requirement already satisfied: safetensors>=0.4.1 in c:\\users\\eolor\\appdata\\local\\packages\\pythonsoftwarefoundation.python.3.12_qbz5n2kfra8p0\\localcache\\local-packages\\python312\\site-packages (from transformers>=3.0.0->bert_score) (0.4.3)\n",
            "Requirement already satisfied: contourpy>=1.0.1 in c:\\users\\eolor\\appdata\\local\\packages\\pythonsoftwarefoundation.python.3.12_qbz5n2kfra8p0\\localcache\\local-packages\\python312\\site-packages (from matplotlib->bert_score) (1.2.1)\n",
            "Requirement already satisfied: cycler>=0.10 in c:\\users\\eolor\\appdata\\local\\packages\\pythonsoftwarefoundation.python.3.12_qbz5n2kfra8p0\\localcache\\local-packages\\python312\\site-packages (from matplotlib->bert_score) (0.12.1)\n",
            "Requirement already satisfied: fonttools>=4.22.0 in c:\\users\\eolor\\appdata\\local\\packages\\pythonsoftwarefoundation.python.3.12_qbz5n2kfra8p0\\localcache\\local-packages\\python312\\site-packages (from matplotlib->bert_score) (4.51.0)\n",
            "Requirement already satisfied: kiwisolver>=1.3.1 in c:\\users\\eolor\\appdata\\local\\packages\\pythonsoftwarefoundation.python.3.12_qbz5n2kfra8p0\\localcache\\local-packages\\python312\\site-packages (from matplotlib->bert_score) (1.4.5)\n",
            "Requirement already satisfied: pillow>=8 in c:\\users\\eolor\\appdata\\local\\packages\\pythonsoftwarefoundation.python.3.12_qbz5n2kfra8p0\\localcache\\local-packages\\python312\\site-packages (from matplotlib->bert_score) (10.3.0)\n",
            "Requirement already satisfied: pyparsing>=2.3.1 in c:\\users\\eolor\\appdata\\local\\packages\\pythonsoftwarefoundation.python.3.12_qbz5n2kfra8p0\\localcache\\local-packages\\python312\\site-packages (from matplotlib->bert_score) (3.1.2)\n",
            "Requirement already satisfied: charset-normalizer<4,>=2 in c:\\users\\eolor\\appdata\\local\\packages\\pythonsoftwarefoundation.python.3.12_qbz5n2kfra8p0\\localcache\\local-packages\\python312\\site-packages (from requests->bert_score) (3.3.2)\n",
            "Requirement already satisfied: idna<4,>=2.5 in c:\\users\\eolor\\appdata\\local\\packages\\pythonsoftwarefoundation.python.3.12_qbz5n2kfra8p0\\localcache\\local-packages\\python312\\site-packages (from requests->bert_score) (3.7)\n",
            "Requirement already satisfied: urllib3<3,>=1.21.1 in c:\\users\\eolor\\appdata\\local\\packages\\pythonsoftwarefoundation.python.3.12_qbz5n2kfra8p0\\localcache\\local-packages\\python312\\site-packages (from requests->bert_score) (2.2.1)\n",
            "Requirement already satisfied: certifi>=2017.4.17 in c:\\users\\eolor\\appdata\\local\\packages\\pythonsoftwarefoundation.python.3.12_qbz5n2kfra8p0\\localcache\\local-packages\\python312\\site-packages (from requests->bert_score) (2024.2.2)\n",
            "Requirement already satisfied: intel-openmp==2021.* in c:\\users\\eolor\\appdata\\local\\packages\\pythonsoftwarefoundation.python.3.12_qbz5n2kfra8p0\\localcache\\local-packages\\python312\\site-packages (from mkl<=2021.4.0,>=2021.1.1->torch>=1.0.0->bert_score) (2021.4.0)\n",
            "Requirement already satisfied: tbb==2021.* in c:\\users\\eolor\\appdata\\local\\packages\\pythonsoftwarefoundation.python.3.12_qbz5n2kfra8p0\\localcache\\local-packages\\python312\\site-packages (from mkl<=2021.4.0,>=2021.1.1->torch>=1.0.0->bert_score) (2021.12.0)\n",
            "Requirement already satisfied: six>=1.5 in c:\\users\\eolor\\appdata\\local\\packages\\pythonsoftwarefoundation.python.3.12_qbz5n2kfra8p0\\localcache\\local-packages\\python312\\site-packages (from python-dateutil>=2.8.2->pandas>=1.0.1->bert_score) (1.16.0)\n",
            "Requirement already satisfied: MarkupSafe>=2.0 in c:\\users\\eolor\\appdata\\local\\packages\\pythonsoftwarefoundation.python.3.12_qbz5n2kfra8p0\\localcache\\local-packages\\python312\\site-packages (from jinja2->torch>=1.0.0->bert_score) (2.1.5)\n",
            "Requirement already satisfied: mpmath>=0.19 in c:\\users\\eolor\\appdata\\local\\packages\\pythonsoftwarefoundation.python.3.12_qbz5n2kfra8p0\\localcache\\local-packages\\python312\\site-packages (from sympy->torch>=1.0.0->bert_score) (1.3.0)\n"
          ]
        }
      ],
      "source": [
        "pip install bert_score"
      ]
    },
    {
      "cell_type": "code",
      "execution_count": 32,
      "metadata": {},
      "outputs": [
        {
          "name": "stdout",
          "output_type": "stream",
          "text": [
            "Defaulting to user installation because normal site-packages is not writeable\n",
            "Requirement already satisfied: torch in c:\\users\\eolor\\appdata\\local\\packages\\pythonsoftwarefoundation.python.3.12_qbz5n2kfra8p0\\localcache\\local-packages\\python312\\site-packages (2.3.0)\n",
            "Requirement already satisfied: filelock in c:\\users\\eolor\\appdata\\local\\packages\\pythonsoftwarefoundation.python.3.12_qbz5n2kfra8p0\\localcache\\local-packages\\python312\\site-packages (from torch) (3.14.0)\n",
            "Requirement already satisfied: typing-extensions>=4.8.0 in c:\\users\\eolor\\appdata\\local\\packages\\pythonsoftwarefoundation.python.3.12_qbz5n2kfra8p0\\localcache\\local-packages\\python312\\site-packages (from torch) (4.11.0)\n",
            "Requirement already satisfied: sympy in c:\\users\\eolor\\appdata\\local\\packages\\pythonsoftwarefoundation.python.3.12_qbz5n2kfra8p0\\localcache\\local-packages\\python312\\site-packages (from torch) (1.12)\n",
            "Requirement already satisfied: networkx in c:\\users\\eolor\\appdata\\local\\packages\\pythonsoftwarefoundation.python.3.12_qbz5n2kfra8p0\\localcache\\local-packages\\python312\\site-packages (from torch) (3.3)\n",
            "Requirement already satisfied: jinja2 in c:\\users\\eolor\\appdata\\local\\packages\\pythonsoftwarefoundation.python.3.12_qbz5n2kfra8p0\\localcache\\local-packages\\python312\\site-packages (from torch) (3.1.3)\n",
            "Requirement already satisfied: fsspec in c:\\users\\eolor\\appdata\\local\\packages\\pythonsoftwarefoundation.python.3.12_qbz5n2kfra8p0\\localcache\\local-packages\\python312\\site-packages (from torch) (2024.3.1)\n",
            "Requirement already satisfied: mkl<=2021.4.0,>=2021.1.1 in c:\\users\\eolor\\appdata\\local\\packages\\pythonsoftwarefoundation.python.3.12_qbz5n2kfra8p0\\localcache\\local-packages\\python312\\site-packages (from torch) (2021.4.0)\n",
            "Requirement already satisfied: intel-openmp==2021.* in c:\\users\\eolor\\appdata\\local\\packages\\pythonsoftwarefoundation.python.3.12_qbz5n2kfra8p0\\localcache\\local-packages\\python312\\site-packages (from mkl<=2021.4.0,>=2021.1.1->torch) (2021.4.0)\n",
            "Requirement already satisfied: tbb==2021.* in c:\\users\\eolor\\appdata\\local\\packages\\pythonsoftwarefoundation.python.3.12_qbz5n2kfra8p0\\localcache\\local-packages\\python312\\site-packages (from mkl<=2021.4.0,>=2021.1.1->torch) (2021.12.0)\n",
            "Requirement already satisfied: MarkupSafe>=2.0 in c:\\users\\eolor\\appdata\\local\\packages\\pythonsoftwarefoundation.python.3.12_qbz5n2kfra8p0\\localcache\\local-packages\\python312\\site-packages (from jinja2->torch) (2.1.5)\n",
            "Requirement already satisfied: mpmath>=0.19 in c:\\users\\eolor\\appdata\\local\\packages\\pythonsoftwarefoundation.python.3.12_qbz5n2kfra8p0\\localcache\\local-packages\\python312\\site-packages (from sympy->torch) (1.3.0)\n",
            "Note: you may need to restart the kernel to use updated packages.\n"
          ]
        }
      ],
      "source": [
        "pip install torch"
      ]
    },
    {
      "cell_type": "code",
      "execution_count": null,
      "metadata": {},
      "outputs": [],
      "source": [
        "!pip install bert-score"
      ]
    },
    {
      "cell_type": "code",
      "execution_count": 7,
      "metadata": {},
      "outputs": [
        {
          "name": "stdout",
          "output_type": "stream",
          "text": [
            "Defaulting to user installation because normal site-packages is not writeable\n",
            "Requirement already satisfied: numpy in c:\\users\\eolor\\appdata\\local\\packages\\pythonsoftwarefoundation.python.3.12_qbz5n2kfra8p0\\localcache\\local-packages\\python312\\site-packages (1.26.4)\n",
            "Note: you may need to restart the kernel to use updated packages.\n"
          ]
        }
      ],
      "source": [
        "pip install numpy"
      ]
    },
    {
      "cell_type": "code",
      "execution_count": 34,
      "metadata": {
        "id": "sZBlwzTWZq2p"
      },
      "outputs": [
        {
          "name": "stderr",
          "output_type": "stream",
          "text": [
            "All PyTorch model weights were used when initializing TFBartForConditionalGeneration.\n",
            "\n",
            "All the weights of TFBartForConditionalGeneration were initialized from the PyTorch model.\n",
            "If your task is similar to the task the model of the checkpoint was trained on, you can already use TFBartForConditionalGeneration for predictions without further training.\n"
          ]
        }
      ],
      "source": [
        "import requests\n",
        "from bs4 import BeautifulSoup\n",
        "import transformers\n",
        "from transformers import pipeline\n",
        "pipe = pipeline(\"summarization\", model=\"facebook/bart-large-cnn\")"
      ]
    },
    {
      "cell_type": "code",
      "execution_count": 2,
      "metadata": {
        "id": "IIpgBzr4aYMB"
      },
      "outputs": [],
      "source": [
        "import re\n",
        "import pandas as pd"
      ]
    },
    {
      "cell_type": "code",
      "execution_count": 26,
      "metadata": {},
      "outputs": [],
      "source": [
        "from evaluate import load\n",
        "import evaluate"
      ]
    },
    {
      "cell_type": "code",
      "execution_count": 13,
      "metadata": {
        "id": "f8tSOO6uNTve"
      },
      "outputs": [],
      "source": [
        "def get_data(url):\n",
        "    \"\"\" Retrieves text surrounded by <p> tags from the url\n",
        "\n",
        "        Args:\n",
        "          url: A url passed in by the user, containing the text to be summarised\n",
        "\n",
        "        Returns:\n",
        "          data: An array of each paragraph from the url\n",
        "    \"\"\"\n",
        "    response = requests.get(url)\n",
        "    soup = BeautifulSoup(response.text, 'html.parser')\n",
        "    data = soup.find_all('p')\n",
        "    return data"
      ]
    },
    {
      "cell_type": "code",
      "execution_count": null,
      "metadata": {
        "id": "F2UxiF5lNVjA"
      },
      "outputs": [],
      "source": [
        "#text = str (text)\n",
        "#text"
      ]
    },
    {
      "cell_type": "code",
      "execution_count": 14,
      "metadata": {
        "id": "g8piyki7alzN"
      },
      "outputs": [
        {
          "name": "stderr",
          "output_type": "stream",
          "text": [
            "<>:13: SyntaxWarning: invalid escape sequence '\\/'\n",
            "<>:13: SyntaxWarning: invalid escape sequence '\\/'\n",
            "C:\\Users\\eolor\\AppData\\Local\\Temp\\ipykernel_13580\\3919253588.py:13: SyntaxWarning: invalid escape sequence '\\/'\n",
            "  match = re.match(\"<p>(.*)<\\/p>\", paraString)\n"
          ]
        }
      ],
      "source": [
        "def clean_data(text):\n",
        "  \"\"\" Cleans the data so it can be processed by the pipeline\n",
        "\n",
        "  Args:\n",
        "    text: raw data from the get_data() method\n",
        "\n",
        "  Returns:\n",
        "    paragraph: An array containing all the clean data, separated by paragraph\n",
        "  \"\"\"\n",
        "  paragraph = []\n",
        "  for i in text:\n",
        "    paraString = str (i)\n",
        "    match = re.match(\"<p>(.*)<\\/p>\", paraString)\n",
        "    if match:\n",
        "      groupMatch = re.match(\"^(?!.*<[^>]+>).*$\", match.group(1))\n",
        "      if groupMatch:\n",
        "        paragraph.append(match.group(1))\n",
        "  return paragraph"
      ]
    },
    {
      "cell_type": "code",
      "execution_count": 15,
      "metadata": {
        "id": "r6-TjXw-NXgB"
      },
      "outputs": [],
      "source": [
        "def get_summary(text, maxLim, minLim, sample):\n",
        "  \"\"\" Summarizes the text paragraph by paragraph\n",
        "\n",
        "  Args:\n",
        "    text: An array of clean text(s)\n",
        "    max: An integer stating the maximum amount of words the summary should include\n",
        "    min: An integer stating amount of words the summary should include\n",
        "    sample: A boolean that influences how the model generates text\n",
        "\n",
        "  Returns:\n",
        "    summary: A dictionary full of key-value pairs ('summary_text': summarised paragraph)\n",
        "  \"\"\"\n",
        "  summary = pipe(text, max_length=maxLim, min_length=minLim, do_sample=sample)\n",
        "  return summary"
      ]
    },
    {
      "cell_type": "code",
      "execution_count": 16,
      "metadata": {
        "id": "S4NlYreCantw"
      },
      "outputs": [],
      "source": [
        "def get_dataframe(para, summ):\n",
        "  \"\"\" Turns the original paragraphs and summarised paragraphs into a Data Frame\n",
        "\n",
        "    Args:\n",
        "      para: The original cleaned paragraphs\n",
        "      summ: The summary dictionary\n",
        "\n",
        "    Returns:\n",
        "      textDF: Data Frame containing both values of para and summ\n",
        "  \"\"\"\n",
        "  summaries = []\n",
        "  for i in range(len(summ)):\n",
        "    summaries.append(summ[i]['summary_text'])\n",
        "  para = pd.DataFrame(para, columns=['Paragraph'])\n",
        "  summaries = pd.DataFrame(summaries, columns=['Summary'])\n",
        "  textDF = pd.concat([para, summaries], axis=1)\n",
        "  pd.set_option('display.max_colwidth',3000)\n",
        "  return textDF"
      ]
    },
    {
      "cell_type": "code",
      "execution_count": 17,
      "metadata": {
        "id": "4bfmPo6QaxL_"
      },
      "outputs": [
        {
          "data": {
            "text/plain": [
              "[<p><em>Peter van der Made is the founder and CTO of </em><a aria-label=\"BrainChip Ltd\" class=\"color-link\" data-ga-track=\"ExternalLink:https://brainchip.com/\" href=\"https://brainchip.com/\" rel=\"nofollow noopener noreferrer\" target=\"_blank\" title=\"https://brainchip.com/\"><em data-ga-track=\"ExternalLink:https://brainchip.com/\">BrainChip Ltd</em></a><em>. BrainChip produces advanced AI processors in digital neuromorphic technologies.</em></p>,\n",
              " <p class=\"color-body light-text\"> </p>,\n",
              " <p>The artificial intelligence (AI) revolution is upon us, and companies must prepare to adapt to this change. It is important to make an inventory of the current skills within the company to identify which additional skills the employees need to learn. The company does well in developing an AI strategy to outline the areas where AI is most effective, whether in a product or a service. Failing to act inevitably means falling behind. The training should include an introduction to AI, its capabilities, and its shortcomings (AI is only as good as its training data). This article gives a view of the current state of AI and what lies ahead.</p>,\n",
              " <p>Artificial intelligence found its purpose in 2012 when AlexNet won the <a aria-label=\"ImageNet challenge\" class=\"color-link\" data-ga-track=\"ExternalLink:https://towardsdatascience.com/alexnet-the-architecture-that-challenged-cnns-e406d5297951\" href=\"https://towardsdatascience.com/alexnet-the-architecture-that-challenged-cnns-e406d5297951\" rel=\"nofollow noopener noreferrer\" target=\"_blank\" title=\"https://towardsdatascience.com/alexnet-the-architecture-that-challenged-cnns-e406d5297951\">ImageNet challenge</a> with a 16.4% overall error rate, compared to over 26%. The ImageNet challenge is a collection of 1.4 million images in 1000 categories, such as dogs, cars, plants, etc. A neural network is the internal engine of all artificial intelligence technologies. The neural network is said to be based on the way the human brain functions; however, this is far from the truth. Brains are way more complicated and efficient than neural networks. Brains have awareness, imagination, inventiveness and creativity, all missing in neural networks. Brains are also dynamic, consisting of specialized cells called neurons.</p>,\n",
              " <p>Neural networks have grown from a few million to nearly 200 billion parameters. Each parameter must be computed, causing an increasingly great demand for high-performance computing resources and energy. Artificial intelligence programs have beaten humans at chess and in the more complicated game of Go. Programs such as ChatGPT can weave exciting stories and answer complex questions. Training a large network can take months on powerful servers with hundreds of thousands of processors.</p>,\n",
              " <p>The increase in computational resources has made new AI tools and neural networks possible. However, the neural networks responsible for all these impressive results are unaware of what they are doing. There is no awareness, just computation.</p>,\n",
              " <p>Machine learning is a subset of artificial intelligence. Training algorithms need vast data sets to create good-quality parameters that define the function and accuracy of a neural network. Machine learning continues to advance as more data becomes available and algorithms become more sophisticated. AI is used in many fields, including healthcare, finance, manufacturing and transportation.</p>,\n",
              " <p>The future of artificial intelligence appears bright with continued advancements in technology. Investment in artificial intelligence reached $93.5 billion in 2021, according to <a aria-label=\"Statista\" class=\"color-link\" data-ga-track=\"ExternalLink:https://www.statista.com/statistics/941137/ai-investment-and-funding-worldwide/\" href=\"https://www.statista.com/statistics/941137/ai-investment-and-funding-worldwide/\" rel=\"nofollow noopener noreferrer\" target=\"_blank\" title=\"https://www.statista.com/statistics/941137/ai-investment-and-funding-worldwide/\">Statista</a>. The current trend for neural networks to grow larger will likely continue into the near future as more functionality is required.</p>,\n",
              " <p>One of the most promising new technologies is neuromorphic processing. Neuromorphic means \"like the brain.\" Dedicated circuits are used to mimic the way dynamic cells in the brain operate. They do not run any programs but are capable of learning, and just like actual brain cells, they all work simultaneously rather than sequentially. Neuromorphic cortical models of artificial intelligence are based on the structure and function of the neocortex, the brain's outer region responsible for complex cognitive processes and are small, faster and less power-hungry than computers.</p>,\n",
              " <p>Research into these and other brain structures is expected to lead to greater levels of intelligence and better cognitive performance than in previous types of artificial intelligence. With several million nodes, these artificial cortical networks are still far from simulating human intelligence.</p>,\n",
              " <p>Like the composition of the brain, which contains many different structures, it may be necessary to use different types of neural networks to perform specific functions. The neocortex is just one part of the brain responsible for cognition and intelligence. It has massive connections to the thalamus, the hippocampus and the cerebellum, all examples of brain regions important for different cognitive aspects.</p>,\n",
              " <p>Modeling these regions and the neocortex could lead to more advanced AI systems. The thalamus is the central hub that receives sensory information in the brain. Modeling the thalamus could improve the ability of AI to process sensory information, such as auditory, tactile and visual data.</p>,\n",
              " <p>The hippocampus is involved in spatial navigation and the creation of long-term memories. Modeling the hippocampus's functions could improve AI systems' ability to learn and selectively form long-term memory.</p>,\n",
              " <p>The cerebellum has massive connections to all regions of the neocortex. Modeling the cerebellum could lead to the simultaneous processing of incoming data while the AI is learning something new, like driving a car.</p>,\n",
              " <p>While the neuroscience understanding of these brain regions is still incomplete, sufficient information is available to build models that may answer open questions and fill in some of the blanks through experimentation. One day, cortical neuromorphic neural networks may displace the neural networks driving artificial intelligence today and have been responsible for its many successes.</p>,\n",
              " <p>One key difference is their training method. Current neural networks require millions of examples and an error feedback algorithm to adjust the parameters. These training sessions can take weeks using expensive, powerful computers costing millions.</p>,\n",
              " <p>Cortical neuromorphic neural networks learn from few examples and are thus cheaper to deploy. Neuromorphic processing eliminates the need for colossal computer resources. Continuous learning adds experience, creating more accurate outcomes.</p>,\n",
              " <p>Cortical neural networks are expected to be used in products that range from speech recognition to image processing, space exploration, healthcare, and robotics within the next five years. The development of cortical neural networks may lead to the emergence of artificial general intelligence (AGI), the holy grail of artificial intelligence. Humanity will benefit from the emergence of AGI in turbocharging the global economy in providing a multiplier for human ingenuity and safety. AGI is likely to benefit humankind much like previous economic revolutions. The internet and computers changed the way we do business. There will be a similar shift in how humans occupy their time in the future.</p>,\n",
              " <p>AI is a fast-moving field, and companies cannot afford to stand still. To enable personnel, it is imperative to take action now to enable employees to upgrade their skills to meet the challenges of the future. Seek out opportunities to train your employees on this new technology in order to fully embrace it across your organization.</p>,\n",
              " <p><a aria-label=\"Forbes Technology Council\" class=\"color-link\" data-ga-track=\"InternalLink:https://councils.forbes.com/forbestechcouncil?utm_source=forbes.com&amp;utm_medium=referral&amp;utm_campaign=forbes-links&amp;utm_content=in-article-ad-links\" href=\"https://councils.forbes.com/forbestechcouncil?utm_source=forbes.com&amp;utm_medium=referral&amp;utm_campaign=forbes-links&amp;utm_content=in-article-ad-links\" target=\"_self\" title=\"https://councils.forbes.com/forbestechcouncil?utm_source=forbes.com&amp;utm_medium=referral&amp;utm_campaign=forbes-links&amp;utm_content=in-article-ad-links\">Forbes Technology Council</a> is an invitation-only community for world-class CIOs, CTOs and technology executives. <a aria-label=\"Do I qualify?\" class=\"color-link\" data-ga-track=\"InternalLink:https://councils.forbes.com/qualify?utm_source=forbes.com&amp;utm_medium=referral&amp;utm_campaign=forbes-links&amp;utm_term=ftc&amp;utm_content=in-article-ad-links\" href=\"https://councils.forbes.com/qualify?utm_source=forbes.com&amp;utm_medium=referral&amp;utm_campaign=forbes-links&amp;utm_term=ftc&amp;utm_content=in-article-ad-links\" target=\"_self\" title=\"https://councils.forbes.com/qualify?utm_source=forbes.com&amp;utm_medium=referral&amp;utm_campaign=forbes-links&amp;utm_term=ftc&amp;utm_content=in-article-ad-links\"><em data-ga-track=\"InternalLink:https://councils.forbes.com/qualify?utm_source=forbes.com&amp;utm_medium=referral&amp;utm_campaign=forbes-links&amp;utm_term=ftc&amp;utm_content=in-article-ad-links\">Do I qualify?</em></a></p>,\n",
              " <p class=\"contrib-bio\" data-author-html-description=\"&lt;p&gt;Peter van der Made is the founder and CTO of&amp;nbsp;&lt;a href=&quot;https://brainchip.com/&quot; target=&quot;_blank&quot; class=&quot;color-link&quot; title=&quot;https://brainchip.com/&quot; rel=&quot;nofollow noopener&quot;&gt;BrainChip Ltd&lt;/a&gt;. BrainChip produces advanced AI processors in digital neuromorphic technologies.&amp;nbsp;Read Peter van der Made's full executive profile &lt;a href=&quot;https://councils.forbes.com/u/cac5765e-e128-4ddf-99b5-d924f3bcd770&quot; target=&quot;_blank&quot; class=&quot;color-link&quot; title=&quot;https://councils.forbes.com/u/cac5765e-e128-4ddf-99b5-d924f3bcd770&quot;&gt;here&lt;/a&gt;.&lt;/p&gt;\"></p>]"
            ]
          },
          "execution_count": 17,
          "metadata": {},
          "output_type": "execute_result"
        }
      ],
      "source": [
        "text = get_data('https://www.forbes.com/sites/forbestechcouncil/2023/04/10/the-future-of-artificial-intelligence/?sh=6043be4ac496')\n",
        "text"
      ]
    },
    {
      "cell_type": "code",
      "execution_count": 18,
      "metadata": {
        "id": "xV-QsDE0Ncwt"
      },
      "outputs": [],
      "source": [
        "cleanText = clean_data(text)"
      ]
    },
    {
      "cell_type": "code",
      "execution_count": 19,
      "metadata": {
        "id": "h8pG01rlNeXC"
      },
      "outputs": [],
      "source": [
        "summary = get_summary(cleanText, 35, 25, False)"
      ]
    },
    {
      "cell_type": "code",
      "execution_count": 12,
      "metadata": {
        "colab": {
          "base_uri": "https://localhost:8080/",
          "height": 2152
        },
        "id": "vzoh8WouNg0G",
        "outputId": "327afdf8-f084-4777-9a36-6cb474e94aae"
      },
      "outputs": [
        {
          "data": {
            "text/html": [
              "<div>\n",
              "<style scoped>\n",
              "    .dataframe tbody tr th:only-of-type {\n",
              "        vertical-align: middle;\n",
              "    }\n",
              "\n",
              "    .dataframe tbody tr th {\n",
              "        vertical-align: top;\n",
              "    }\n",
              "\n",
              "    .dataframe thead th {\n",
              "        text-align: right;\n",
              "    }\n",
              "</style>\n",
              "<table border=\"1\" class=\"dataframe\">\n",
              "  <thead>\n",
              "    <tr style=\"text-align: right;\">\n",
              "      <th></th>\n",
              "      <th>Paragraph</th>\n",
              "      <th>Summary</th>\n",
              "    </tr>\n",
              "  </thead>\n",
              "  <tbody>\n",
              "    <tr>\n",
              "      <th>0</th>\n",
              "      <td>The artificial intelligence (AI) revolution is upon us, and companies must prepare to adapt to this change. It is important to make an inventory of the current skills within the company to identify which additional skills the employees need to learn. The company does well in developing an AI strategy to outline the areas where AI is most effective, whether in a product or a service. Failing to act inevitably means falling behind. The training should include an introduction to AI, its capabilities, and its shortcomings (AI is only as good as its training data). This article gives a view of the current state of AI and what lies ahead.</td>\n",
              "      <td>The artificial intelligence (AI) revolution is upon us, and companies must prepare to adapt to this change. It is important to make an inventory of the current skills</td>\n",
              "    </tr>\n",
              "    <tr>\n",
              "      <th>1</th>\n",
              "      <td>Neural networks have grown from a few million to nearly 200 billion parameters. Each parameter must be computed, causing an increasingly great demand for high-performance computing resources and energy. Artificial intelligence programs have beaten humans at chess and in the more complicated game of Go. Programs such as ChatGPT can weave exciting stories and answer complex questions. Training a large network can take months on powerful servers with hundreds of thousands of processors.</td>\n",
              "      <td>Neural networks have grown from a few million to nearly 200 billion parameters. Training a large network can take months on powerful servers with hundreds of thousands of processors.</td>\n",
              "    </tr>\n",
              "    <tr>\n",
              "      <th>2</th>\n",
              "      <td>The increase in computational resources has made new AI tools and neural networks possible. However, the neural networks responsible for all these impressive results are unaware of what they are doing. There is no awareness, just computation.</td>\n",
              "      <td>The neural networks responsible for all these impressive results are unaware of what they are doing. There is no awareness, just computation. The increase in computational resources has made</td>\n",
              "    </tr>\n",
              "    <tr>\n",
              "      <th>3</th>\n",
              "      <td>Machine learning is a subset of artificial intelligence. Training algorithms need vast data sets to create good-quality parameters that define the function and accuracy of a neural network. Machine learning continues to advance as more data becomes available and algorithms become more sophisticated. AI is used in many fields, including healthcare, finance, manufacturing and transportation.</td>\n",
              "      <td>Machine learning is a subset of artificial intelligence. Training algorithms need vast data sets to create good-quality parameters. Machine learning continues to advance as more data becomes available</td>\n",
              "    </tr>\n",
              "    <tr>\n",
              "      <th>4</th>\n",
              "      <td>One of the most promising new technologies is neuromorphic processing. Neuromorphic means \"like the brain.\" Dedicated circuits are used to mimic the way dynamic cells in the brain operate. They do not run any programs but are capable of learning, and just like actual brain cells, they all work simultaneously rather than sequentially. Neuromorphic cortical models of artificial intelligence are based on the structure and function of the neocortex, the brain's outer region responsible for complex cognitive processes and are small, faster and less power-hungry than computers.</td>\n",
              "      <td>Dedicated circuits are used to mimic the way dynamic cells in the brain operate. Neuromorphic cortical models of artificial intelligence are based on the structure and function</td>\n",
              "    </tr>\n",
              "    <tr>\n",
              "      <th>5</th>\n",
              "      <td>Research into these and other brain structures is expected to lead to greater levels of intelligence and better cognitive performance than in previous types of artificial intelligence. With several million nodes, these artificial cortical networks are still far from simulating human intelligence.</td>\n",
              "      <td>With several million nodes, these artificial cortical networks are still far from simulating human intelligence. Research into these and other brain structures is expected to lead to greater levels</td>\n",
              "    </tr>\n",
              "    <tr>\n",
              "      <th>6</th>\n",
              "      <td>Like the composition of the brain, which contains many different structures, it may be necessary to use different types of neural networks to perform specific functions. The neocortex is just one part of the brain responsible for cognition and intelligence. It has massive connections to the thalamus, the hippocampus and the cerebellum, all examples of brain regions important for different cognitive aspects.</td>\n",
              "      <td>The neocortex is just one part of the brain responsible for cognition and intelligence. It has massive connections to the thalamus, the hippocampus and the cerebell</td>\n",
              "    </tr>\n",
              "    <tr>\n",
              "      <th>7</th>\n",
              "      <td>Modeling these regions and the neocortex could lead to more advanced AI systems. The thalamus is the central hub that receives sensory information in the brain. Modeling the thalamus could improve the ability of AI to process sensory information, such as auditory, tactile and visual data.</td>\n",
              "      <td>The thalamus is the central hub that receives sensory information in the brain. Modeling these regions and the neocortex could lead to more advanced AI systems.</td>\n",
              "    </tr>\n",
              "    <tr>\n",
              "      <th>8</th>\n",
              "      <td>The hippocampus is involved in spatial navigation and the creation of long-term memories. Modeling the hippocampus's functions could improve AI systems' ability to learn and selectively form long-term memory.</td>\n",
              "      <td>The hippocampus is involved in spatial navigation and the creation of long-term memories. Modeling the hippocampus's functions could improve AI systems' ability to learn and selectively</td>\n",
              "    </tr>\n",
              "    <tr>\n",
              "      <th>9</th>\n",
              "      <td>The cerebellum has massive connections to all regions of the neocortex. Modeling the cerebellum could lead to the simultaneous processing of incoming data while the AI is learning something new, like driving a car.</td>\n",
              "      <td>Modeling the cerebellum could lead to the simultaneous processing of incoming data while the AI is learning something new, like driving a car.</td>\n",
              "    </tr>\n",
              "    <tr>\n",
              "      <th>10</th>\n",
              "      <td>While the neuroscience understanding of these brain regions is still incomplete, sufficient information is available to build models that may answer open questions and fill in some of the blanks through experimentation. One day, cortical neuromorphic neural networks may displace the neural networks driving artificial intelligence today and have been responsible for its many successes.</td>\n",
              "      <td>Neuroscience understanding of these brain regions is still incomplete. One day, cortical neuromorphic neural networks may displace the neural networks driving artificial intelligence today.</td>\n",
              "    </tr>\n",
              "    <tr>\n",
              "      <th>11</th>\n",
              "      <td>One key difference is their training method. Current neural networks require millions of examples and an error feedback algorithm to adjust the parameters. These training sessions can take weeks using expensive, powerful computers costing millions.</td>\n",
              "      <td>Current neural networks require millions of examples and an error feedback algorithm. These training sessions can take weeks using expensive, powerful computers costing millions.</td>\n",
              "    </tr>\n",
              "    <tr>\n",
              "      <th>12</th>\n",
              "      <td>Cortical neuromorphic neural networks learn from few examples and are thus cheaper to deploy. Neuromorphic processing eliminates the need for colossal computer resources. Continuous learning adds experience, creating more accurate outcomes.</td>\n",
              "      <td>Neuromorphic processing eliminates the need for colossal computer resources. Continuous learning adds experience, creating more accurate outcomes. Cortical neuromorphic neural networks learn from few examples</td>\n",
              "    </tr>\n",
              "    <tr>\n",
              "      <th>13</th>\n",
              "      <td>Cortical neural networks are expected to be used in products that range from speech recognition to image processing, space exploration, healthcare, and robotics within the next five years. The development of cortical neural networks may lead to the emergence of artificial general intelligence (AGI), the holy grail of artificial intelligence. Humanity will benefit from the emergence of AGI in turbocharging the global economy in providing a multiplier for human ingenuity and safety. AGI is likely to benefit humankind much like previous economic revolutions. The internet and computers changed the way we do business. There will be a similar shift in how humans occupy their time in the future.</td>\n",
              "      <td>Cortical neural networks are expected to be used in products that range from speech recognition to image processing, space exploration, healthcare, and robotics. The development of</td>\n",
              "    </tr>\n",
              "    <tr>\n",
              "      <th>14</th>\n",
              "      <td>AI is a fast-moving field, and companies cannot afford to stand still. To enable personnel, it is imperative to take action now to enable employees to upgrade their skills to meet the challenges of the future. Seek out opportunities to train your employees on this new technology in order to fully embrace it across your organization.</td>\n",
              "      <td>AI is a fast-moving field, and companies cannot afford to stand still. To enable personnel, it is imperative to take action now to enable employees to upgrade</td>\n",
              "    </tr>\n",
              "  </tbody>\n",
              "</table>\n",
              "</div>"
            ],
            "text/plain": [
              "                                                                                                                                                                                                                                                                                                                                                                                                                                                                                                                                                                                                                                                                                                                    Paragraph  \\\n",
              "0                                                            The artificial intelligence (AI) revolution is upon us, and companies must prepare to adapt to this change. It is important to make an inventory of the current skills within the company to identify which additional skills the employees need to learn. The company does well in developing an AI strategy to outline the areas where AI is most effective, whether in a product or a service. Failing to act inevitably means falling behind. The training should include an introduction to AI, its capabilities, and its shortcomings (AI is only as good as its training data). This article gives a view of the current state of AI and what lies ahead.   \n",
              "1                                                                                                                                                                                                                    Neural networks have grown from a few million to nearly 200 billion parameters. Each parameter must be computed, causing an increasingly great demand for high-performance computing resources and energy. Artificial intelligence programs have beaten humans at chess and in the more complicated game of Go. Programs such as ChatGPT can weave exciting stories and answer complex questions. Training a large network can take months on powerful servers with hundreds of thousands of processors.   \n",
              "2                                                                                                                                                                                                                                                                                                                                                                                                                                                                          The increase in computational resources has made new AI tools and neural networks possible. However, the neural networks responsible for all these impressive results are unaware of what they are doing. There is no awareness, just computation.   \n",
              "3                                                                                                                                                                                                                                                                                                                    Machine learning is a subset of artificial intelligence. Training algorithms need vast data sets to create good-quality parameters that define the function and accuracy of a neural network. Machine learning continues to advance as more data becomes available and algorithms become more sophisticated. AI is used in many fields, including healthcare, finance, manufacturing and transportation.   \n",
              "4                                                                                                                          One of the most promising new technologies is neuromorphic processing. Neuromorphic means \"like the brain.\" Dedicated circuits are used to mimic the way dynamic cells in the brain operate. They do not run any programs but are capable of learning, and just like actual brain cells, they all work simultaneously rather than sequentially. Neuromorphic cortical models of artificial intelligence are based on the structure and function of the neocortex, the brain's outer region responsible for complex cognitive processes and are small, faster and less power-hungry than computers.   \n",
              "5                                                                                                                                                                                                                                                                                                                                                                                                                   Research into these and other brain structures is expected to lead to greater levels of intelligence and better cognitive performance than in previous types of artificial intelligence. With several million nodes, these artificial cortical networks are still far from simulating human intelligence.   \n",
              "6                                                                                                                                                                                                                                                                                                  Like the composition of the brain, which contains many different structures, it may be necessary to use different types of neural networks to perform specific functions. The neocortex is just one part of the brain responsible for cognition and intelligence. It has massive connections to the thalamus, the hippocampus and the cerebellum, all examples of brain regions important for different cognitive aspects.   \n",
              "7                                                                                                                                                                                                                                                                                                                                                                                                                           Modeling these regions and the neocortex could lead to more advanced AI systems. The thalamus is the central hub that receives sensory information in the brain. Modeling the thalamus could improve the ability of AI to process sensory information, such as auditory, tactile and visual data.   \n",
              "8                                                                                                                                                                                                                                                                                                                                                                                                                                                                                                            The hippocampus is involved in spatial navigation and the creation of long-term memories. Modeling the hippocampus's functions could improve AI systems' ability to learn and selectively form long-term memory.   \n",
              "9                                                                                                                                                                                                                                                                                                                                                                                                                                                                                                      The cerebellum has massive connections to all regions of the neocortex. Modeling the cerebellum could lead to the simultaneous processing of incoming data while the AI is learning something new, like driving a car.   \n",
              "10                                                                                                                                                                                                                                                                                                                        While the neuroscience understanding of these brain regions is still incomplete, sufficient information is available to build models that may answer open questions and fill in some of the blanks through experimentation. One day, cortical neuromorphic neural networks may displace the neural networks driving artificial intelligence today and have been responsible for its many successes.   \n",
              "11                                                                                                                                                                                                                                                                                                                                                                                                                                                                   One key difference is their training method. Current neural networks require millions of examples and an error feedback algorithm to adjust the parameters. These training sessions can take weeks using expensive, powerful computers costing millions.   \n",
              "12                                                                                                                                                                                                                                                                                                                                                                                                                                                                           Cortical neuromorphic neural networks learn from few examples and are thus cheaper to deploy. Neuromorphic processing eliminates the need for colossal computer resources. Continuous learning adds experience, creating more accurate outcomes.   \n",
              "13  Cortical neural networks are expected to be used in products that range from speech recognition to image processing, space exploration, healthcare, and robotics within the next five years. The development of cortical neural networks may lead to the emergence of artificial general intelligence (AGI), the holy grail of artificial intelligence. Humanity will benefit from the emergence of AGI in turbocharging the global economy in providing a multiplier for human ingenuity and safety. AGI is likely to benefit humankind much like previous economic revolutions. The internet and computers changed the way we do business. There will be a similar shift in how humans occupy their time in the future.   \n",
              "14                                                                                                                                                                                                                                                                                                                                                                             AI is a fast-moving field, and companies cannot afford to stand still. To enable personnel, it is imperative to take action now to enable employees to upgrade their skills to meet the challenges of the future. Seek out opportunities to train your employees on this new technology in order to fully embrace it across your organization.   \n",
              "\n",
              "                                                                                                                                                                                                             Summary  \n",
              "0                                             The artificial intelligence (AI) revolution is upon us, and companies must prepare to adapt to this change. It is important to make an inventory of the current skills  \n",
              "1                             Neural networks have grown from a few million to nearly 200 billion parameters. Training a large network can take months on powerful servers with hundreds of thousands of processors.  \n",
              "2                     The neural networks responsible for all these impressive results are unaware of what they are doing. There is no awareness, just computation. The increase in computational resources has made  \n",
              "3           Machine learning is a subset of artificial intelligence. Training algorithms need vast data sets to create good-quality parameters. Machine learning continues to advance as more data becomes available  \n",
              "4                                   Dedicated circuits are used to mimic the way dynamic cells in the brain operate. Neuromorphic cortical models of artificial intelligence are based on the structure and function  \n",
              "5              With several million nodes, these artificial cortical networks are still far from simulating human intelligence. Research into these and other brain structures is expected to lead to greater levels  \n",
              "6                                               The neocortex is just one part of the brain responsible for cognition and intelligence. It has massive connections to the thalamus, the hippocampus and the cerebell  \n",
              "7                                                   The thalamus is the central hub that receives sensory information in the brain. Modeling these regions and the neocortex could lead to more advanced AI systems.  \n",
              "8                          The hippocampus is involved in spatial navigation and the creation of long-term memories. Modeling the hippocampus's functions could improve AI systems' ability to learn and selectively  \n",
              "9                                                                     Modeling the cerebellum could lead to the simultaneous processing of incoming data while the AI is learning something new, like driving a car.  \n",
              "10                     Neuroscience understanding of these brain regions is still incomplete. One day, cortical neuromorphic neural networks may displace the neural networks driving artificial intelligence today.  \n",
              "11                                Current neural networks require millions of examples and an error feedback algorithm. These training sessions can take weeks using expensive, powerful computers costing millions.  \n",
              "12  Neuromorphic processing eliminates the need for colossal computer resources. Continuous learning adds experience, creating more accurate outcomes. Cortical neuromorphic neural networks learn from few examples  \n",
              "13                              Cortical neural networks are expected to be used in products that range from speech recognition to image processing, space exploration, healthcare, and robotics. The development of  \n",
              "14                                                    AI is a fast-moving field, and companies cannot afford to stand still. To enable personnel, it is imperative to take action now to enable employees to upgrade  "
            ]
          },
          "execution_count": 12,
          "metadata": {},
          "output_type": "execute_result"
        }
      ],
      "source": [
        "summaryDF = get_dataframe(cleanText, summary)\n",
        "summaryDF"
      ]
    },
    {
      "cell_type": "code",
      "execution_count": 27,
      "metadata": {},
      "outputs": [
        {
          "data": {
            "text/plain": [
              "{'rouge1': 0.6819684046825516,\n",
              " 'rouge2': 0.6573419184775787,\n",
              " 'rougeL': 0.6019545227142208,\n",
              " 'rougeLsum': 0.6023911938593781}"
            ]
          },
          "execution_count": 27,
          "metadata": {},
          "output_type": "execute_result"
        }
      ],
      "source": [
        "rouge = evaluate.load('rouge')\n",
        "candidates = summaryDF['Summary']\n",
        "references = summaryDF['Paragraph']\n",
        "results = rouge.compute(predictions=candidates, references=references)\n",
        "results"
      ]
    },
    {
      "cell_type": "code",
      "execution_count": 10,
      "metadata": {},
      "outputs": [
        {
          "name": "stdout",
          "output_type": "stream",
          "text": [
            "Defaulting to user installation because normal site-packages is not writeable\n",
            "Requirement already satisfied: torch in c:\\users\\eolor\\appdata\\local\\packages\\pythonsoftwarefoundation.python.3.12_qbz5n2kfra8p0\\localcache\\local-packages\\python312\\site-packages (2.3.0)\n",
            "Requirement already satisfied: filelock in c:\\users\\eolor\\appdata\\local\\packages\\pythonsoftwarefoundation.python.3.12_qbz5n2kfra8p0\\localcache\\local-packages\\python312\\site-packages (from torch) (3.14.0)\n",
            "Requirement already satisfied: typing-extensions>=4.8.0 in c:\\users\\eolor\\appdata\\local\\packages\\pythonsoftwarefoundation.python.3.12_qbz5n2kfra8p0\\localcache\\local-packages\\python312\\site-packages (from torch) (4.11.0)\n",
            "Requirement already satisfied: sympy in c:\\users\\eolor\\appdata\\local\\packages\\pythonsoftwarefoundation.python.3.12_qbz5n2kfra8p0\\localcache\\local-packages\\python312\\site-packages (from torch) (1.12)\n",
            "Requirement already satisfied: networkx in c:\\users\\eolor\\appdata\\local\\packages\\pythonsoftwarefoundation.python.3.12_qbz5n2kfra8p0\\localcache\\local-packages\\python312\\site-packages (from torch) (3.3)\n",
            "Requirement already satisfied: jinja2 in c:\\users\\eolor\\appdata\\local\\packages\\pythonsoftwarefoundation.python.3.12_qbz5n2kfra8p0\\localcache\\local-packages\\python312\\site-packages (from torch) (3.1.3)\n",
            "Requirement already satisfied: fsspec in c:\\users\\eolor\\appdata\\local\\packages\\pythonsoftwarefoundation.python.3.12_qbz5n2kfra8p0\\localcache\\local-packages\\python312\\site-packages (from torch) (2024.3.1)\n",
            "Requirement already satisfied: mkl<=2021.4.0,>=2021.1.1 in c:\\users\\eolor\\appdata\\local\\packages\\pythonsoftwarefoundation.python.3.12_qbz5n2kfra8p0\\localcache\\local-packages\\python312\\site-packages (from torch) (2021.4.0)\n",
            "Requirement already satisfied: intel-openmp==2021.* in c:\\users\\eolor\\appdata\\local\\packages\\pythonsoftwarefoundation.python.3.12_qbz5n2kfra8p0\\localcache\\local-packages\\python312\\site-packages (from mkl<=2021.4.0,>=2021.1.1->torch) (2021.4.0)\n",
            "Requirement already satisfied: tbb==2021.* in c:\\users\\eolor\\appdata\\local\\packages\\pythonsoftwarefoundation.python.3.12_qbz5n2kfra8p0\\localcache\\local-packages\\python312\\site-packages (from mkl<=2021.4.0,>=2021.1.1->torch) (2021.12.0)\n",
            "Requirement already satisfied: MarkupSafe>=2.0 in c:\\users\\eolor\\appdata\\local\\packages\\pythonsoftwarefoundation.python.3.12_qbz5n2kfra8p0\\localcache\\local-packages\\python312\\site-packages (from jinja2->torch) (2.1.5)\n",
            "Requirement already satisfied: mpmath>=0.19 in c:\\users\\eolor\\appdata\\local\\packages\\pythonsoftwarefoundation.python.3.12_qbz5n2kfra8p0\\localcache\\local-packages\\python312\\site-packages (from sympy->torch) (1.3.0)\n",
            "Note: you may need to restart the kernel to use updated packages.\n"
          ]
        }
      ],
      "source": [
        "pip install torch"
      ]
    },
    {
      "cell_type": "code",
      "execution_count": 11,
      "metadata": {},
      "outputs": [
        {
          "ename": "OSError",
          "evalue": "[WinError 126] The specified module could not be found. Error loading \"C:\\Users\\eolor\\AppData\\Local\\Packages\\PythonSoftwareFoundation.Python.3.12_qbz5n2kfra8p0\\LocalCache\\local-packages\\Python312\\site-packages\\torch\\lib\\shm.dll\" or one of its dependencies.",
          "output_type": "error",
          "traceback": [
            "\u001b[1;31m---------------------------------------------------------------------------\u001b[0m",
            "\u001b[1;31mOSError\u001b[0m                                   Traceback (most recent call last)",
            "Cell \u001b[1;32mIn[11], line 1\u001b[0m\n\u001b[1;32m----> 1\u001b[0m \u001b[38;5;28;01mimport\u001b[39;00m \u001b[38;5;21;01mtransformers\u001b[39;00m\n\u001b[0;32m      2\u001b[0m \u001b[38;5;28;01mfrom\u001b[39;00m \u001b[38;5;21;01mtransformers\u001b[39;00m \u001b[38;5;28;01mimport\u001b[39;00m BertTokenizer, BertForMaskedLM, BertModel, pipeline\n\u001b[0;32m      3\u001b[0m \u001b[38;5;28;01mimport\u001b[39;00m \u001b[38;5;21;01mbert_score\u001b[39;00m\n",
            "File \u001b[1;32m~\\AppData\\Local\\Packages\\PythonSoftwareFoundation.Python.3.12_qbz5n2kfra8p0\\LocalCache\\local-packages\\Python312\\site-packages\\transformers\\__init__.py:26\u001b[0m\n\u001b[0;32m     23\u001b[0m \u001b[38;5;28;01mfrom\u001b[39;00m \u001b[38;5;21;01mtyping\u001b[39;00m \u001b[38;5;28;01mimport\u001b[39;00m TYPE_CHECKING\n\u001b[0;32m     25\u001b[0m \u001b[38;5;66;03m# Check the dependencies satisfy the minimal versions required.\u001b[39;00m\n\u001b[1;32m---> 26\u001b[0m \u001b[38;5;28;01mfrom\u001b[39;00m \u001b[38;5;21;01m.\u001b[39;00m \u001b[38;5;28;01mimport\u001b[39;00m dependency_versions_check\n\u001b[0;32m     27\u001b[0m \u001b[38;5;28;01mfrom\u001b[39;00m \u001b[38;5;21;01m.\u001b[39;00m\u001b[38;5;21;01mutils\u001b[39;00m \u001b[38;5;28;01mimport\u001b[39;00m (\n\u001b[0;32m     28\u001b[0m     OptionalDependencyNotAvailable,\n\u001b[0;32m     29\u001b[0m     _LazyModule,\n\u001b[1;32m   (...)\u001b[0m\n\u001b[0;32m     48\u001b[0m     logging,\n\u001b[0;32m     49\u001b[0m )\n\u001b[0;32m     52\u001b[0m logger \u001b[38;5;241m=\u001b[39m logging\u001b[38;5;241m.\u001b[39mget_logger(\u001b[38;5;18m__name__\u001b[39m)  \u001b[38;5;66;03m# pylint: disable=invalid-name\u001b[39;00m\n",
            "File \u001b[1;32m~\\AppData\\Local\\Packages\\PythonSoftwareFoundation.Python.3.12_qbz5n2kfra8p0\\LocalCache\\local-packages\\Python312\\site-packages\\transformers\\dependency_versions_check.py:16\u001b[0m\n\u001b[0;32m      1\u001b[0m \u001b[38;5;66;03m# Copyright 2020 The HuggingFace Team. All rights reserved.\u001b[39;00m\n\u001b[0;32m      2\u001b[0m \u001b[38;5;66;03m#\u001b[39;00m\n\u001b[0;32m      3\u001b[0m \u001b[38;5;66;03m# Licensed under the Apache License, Version 2.0 (the \"License\");\u001b[39;00m\n\u001b[1;32m   (...)\u001b[0m\n\u001b[0;32m     12\u001b[0m \u001b[38;5;66;03m# See the License for the specific language governing permissions and\u001b[39;00m\n\u001b[0;32m     13\u001b[0m \u001b[38;5;66;03m# limitations under the License.\u001b[39;00m\n\u001b[0;32m     15\u001b[0m \u001b[38;5;28;01mfrom\u001b[39;00m \u001b[38;5;21;01m.\u001b[39;00m\u001b[38;5;21;01mdependency_versions_table\u001b[39;00m \u001b[38;5;28;01mimport\u001b[39;00m deps\n\u001b[1;32m---> 16\u001b[0m \u001b[38;5;28;01mfrom\u001b[39;00m \u001b[38;5;21;01m.\u001b[39;00m\u001b[38;5;21;01mutils\u001b[39;00m\u001b[38;5;21;01m.\u001b[39;00m\u001b[38;5;21;01mversions\u001b[39;00m \u001b[38;5;28;01mimport\u001b[39;00m require_version, require_version_core\n\u001b[0;32m     19\u001b[0m \u001b[38;5;66;03m# define which module versions we always want to check at run time\u001b[39;00m\n\u001b[0;32m     20\u001b[0m \u001b[38;5;66;03m# (usually the ones defined in `install_requires` in setup.py)\u001b[39;00m\n\u001b[0;32m     21\u001b[0m \u001b[38;5;66;03m#\u001b[39;00m\n\u001b[0;32m     22\u001b[0m \u001b[38;5;66;03m# order specific notes:\u001b[39;00m\n\u001b[0;32m     23\u001b[0m \u001b[38;5;66;03m# - tqdm must be checked before tokenizers\u001b[39;00m\n\u001b[0;32m     25\u001b[0m pkgs_to_check_at_runtime \u001b[38;5;241m=\u001b[39m [\n\u001b[0;32m     26\u001b[0m     \u001b[38;5;124m\"\u001b[39m\u001b[38;5;124mpython\u001b[39m\u001b[38;5;124m\"\u001b[39m,\n\u001b[0;32m     27\u001b[0m     \u001b[38;5;124m\"\u001b[39m\u001b[38;5;124mtqdm\u001b[39m\u001b[38;5;124m\"\u001b[39m,\n\u001b[1;32m   (...)\u001b[0m\n\u001b[0;32m     37\u001b[0m     \u001b[38;5;124m\"\u001b[39m\u001b[38;5;124mpyyaml\u001b[39m\u001b[38;5;124m\"\u001b[39m,\n\u001b[0;32m     38\u001b[0m ]\n",
            "File \u001b[1;32m~\\AppData\\Local\\Packages\\PythonSoftwareFoundation.Python.3.12_qbz5n2kfra8p0\\LocalCache\\local-packages\\Python312\\site-packages\\transformers\\utils\\__init__.py:33\u001b[0m\n\u001b[0;32m     24\u001b[0m \u001b[38;5;28;01mfrom\u001b[39;00m \u001b[38;5;21;01m.\u001b[39;00m\u001b[38;5;21;01mconstants\u001b[39;00m \u001b[38;5;28;01mimport\u001b[39;00m IMAGENET_DEFAULT_MEAN, IMAGENET_DEFAULT_STD, IMAGENET_STANDARD_MEAN, IMAGENET_STANDARD_STD\n\u001b[0;32m     25\u001b[0m \u001b[38;5;28;01mfrom\u001b[39;00m \u001b[38;5;21;01m.\u001b[39;00m\u001b[38;5;21;01mdoc\u001b[39;00m \u001b[38;5;28;01mimport\u001b[39;00m (\n\u001b[0;32m     26\u001b[0m     add_code_sample_docstrings,\n\u001b[0;32m     27\u001b[0m     add_end_docstrings,\n\u001b[1;32m   (...)\u001b[0m\n\u001b[0;32m     31\u001b[0m     replace_return_docstrings,\n\u001b[0;32m     32\u001b[0m )\n\u001b[1;32m---> 33\u001b[0m \u001b[38;5;28;01mfrom\u001b[39;00m \u001b[38;5;21;01m.\u001b[39;00m\u001b[38;5;21;01mgeneric\u001b[39;00m \u001b[38;5;28;01mimport\u001b[39;00m (\n\u001b[0;32m     34\u001b[0m     ContextManagers,\n\u001b[0;32m     35\u001b[0m     ExplicitEnum,\n\u001b[0;32m     36\u001b[0m     ModelOutput,\n\u001b[0;32m     37\u001b[0m     PaddingStrategy,\n\u001b[0;32m     38\u001b[0m     TensorType,\n\u001b[0;32m     39\u001b[0m     add_model_info_to_auto_map,\n\u001b[0;32m     40\u001b[0m     cached_property,\n\u001b[0;32m     41\u001b[0m     can_return_loss,\n\u001b[0;32m     42\u001b[0m     expand_dims,\n\u001b[0;32m     43\u001b[0m     find_labels,\n\u001b[0;32m     44\u001b[0m     flatten_dict,\n\u001b[0;32m     45\u001b[0m     infer_framework,\n\u001b[0;32m     46\u001b[0m     is_jax_tensor,\n\u001b[0;32m     47\u001b[0m     is_numpy_array,\n\u001b[0;32m     48\u001b[0m     is_tensor,\n\u001b[0;32m     49\u001b[0m     is_tf_symbolic_tensor,\n\u001b[0;32m     50\u001b[0m     is_tf_tensor,\n\u001b[0;32m     51\u001b[0m     is_torch_device,\n\u001b[0;32m     52\u001b[0m     is_torch_dtype,\n\u001b[0;32m     53\u001b[0m     is_torch_tensor,\n\u001b[0;32m     54\u001b[0m     reshape,\n\u001b[0;32m     55\u001b[0m     squeeze,\n\u001b[0;32m     56\u001b[0m     strtobool,\n\u001b[0;32m     57\u001b[0m     tensor_size,\n\u001b[0;32m     58\u001b[0m     to_numpy,\n\u001b[0;32m     59\u001b[0m     to_py_obj,\n\u001b[0;32m     60\u001b[0m     transpose,\n\u001b[0;32m     61\u001b[0m     working_or_temp_dir,\n\u001b[0;32m     62\u001b[0m )\n\u001b[0;32m     63\u001b[0m \u001b[38;5;28;01mfrom\u001b[39;00m \u001b[38;5;21;01m.\u001b[39;00m\u001b[38;5;21;01mhub\u001b[39;00m \u001b[38;5;28;01mimport\u001b[39;00m (\n\u001b[0;32m     64\u001b[0m     CLOUDFRONT_DISTRIB_PREFIX,\n\u001b[0;32m     65\u001b[0m     HF_MODULES_CACHE,\n\u001b[1;32m   (...)\u001b[0m\n\u001b[0;32m     91\u001b[0m     try_to_load_from_cache,\n\u001b[0;32m     92\u001b[0m )\n\u001b[0;32m     93\u001b[0m \u001b[38;5;28;01mfrom\u001b[39;00m \u001b[38;5;21;01m.\u001b[39;00m\u001b[38;5;21;01mimport_utils\u001b[39;00m \u001b[38;5;28;01mimport\u001b[39;00m (\n\u001b[0;32m     94\u001b[0m     ACCELERATE_MIN_VERSION,\n\u001b[0;32m     95\u001b[0m     ENV_VARS_TRUE_AND_AUTO_VALUES,\n\u001b[1;32m   (...)\u001b[0m\n\u001b[0;32m    207\u001b[0m     torch_only_method,\n\u001b[0;32m    208\u001b[0m )\n",
            "File \u001b[1;32m~\\AppData\\Local\\Packages\\PythonSoftwareFoundation.Python.3.12_qbz5n2kfra8p0\\LocalCache\\local-packages\\Python312\\site-packages\\transformers\\utils\\generic.py:465\u001b[0m\n\u001b[0;32m    461\u001b[0m         \u001b[38;5;28;01mreturn\u001b[39;00m \u001b[38;5;28mtuple\u001b[39m(\u001b[38;5;28mself\u001b[39m[k] \u001b[38;5;28;01mfor\u001b[39;00m k \u001b[38;5;129;01min\u001b[39;00m \u001b[38;5;28mself\u001b[39m\u001b[38;5;241m.\u001b[39mkeys())\n\u001b[0;32m    464\u001b[0m \u001b[38;5;28;01mif\u001b[39;00m is_torch_available():\n\u001b[1;32m--> 465\u001b[0m     \u001b[38;5;28;01mimport\u001b[39;00m \u001b[38;5;21;01mtorch\u001b[39;00m\u001b[38;5;21;01m.\u001b[39;00m\u001b[38;5;21;01mutils\u001b[39;00m\u001b[38;5;21;01m.\u001b[39;00m\u001b[38;5;21;01m_pytree\u001b[39;00m \u001b[38;5;28;01mas\u001b[39;00m \u001b[38;5;21;01m_torch_pytree\u001b[39;00m\n\u001b[0;32m    467\u001b[0m     \u001b[38;5;28;01mdef\u001b[39;00m \u001b[38;5;21m_model_output_flatten\u001b[39m(output: ModelOutput) \u001b[38;5;241m-\u001b[39m\u001b[38;5;241m>\u001b[39m Tuple[List[Any], \u001b[38;5;124m\"\u001b[39m\u001b[38;5;124m_torch_pytree.Context\u001b[39m\u001b[38;5;124m\"\u001b[39m]:\n\u001b[0;32m    468\u001b[0m         \u001b[38;5;28;01mreturn\u001b[39;00m \u001b[38;5;28mlist\u001b[39m(output\u001b[38;5;241m.\u001b[39mvalues()), \u001b[38;5;28mlist\u001b[39m(output\u001b[38;5;241m.\u001b[39mkeys())\n",
            "File \u001b[1;32m~\\AppData\\Local\\Packages\\PythonSoftwareFoundation.Python.3.12_qbz5n2kfra8p0\\LocalCache\\local-packages\\Python312\\site-packages\\torch\\__init__.py:141\u001b[0m\n\u001b[0;32m    139\u001b[0m                 err \u001b[38;5;241m=\u001b[39m ctypes\u001b[38;5;241m.\u001b[39mWinError(ctypes\u001b[38;5;241m.\u001b[39mget_last_error())\n\u001b[0;32m    140\u001b[0m                 err\u001b[38;5;241m.\u001b[39mstrerror \u001b[38;5;241m+\u001b[39m\u001b[38;5;241m=\u001b[39m \u001b[38;5;124mf\u001b[39m\u001b[38;5;124m'\u001b[39m\u001b[38;5;124m Error loading \u001b[39m\u001b[38;5;124m\"\u001b[39m\u001b[38;5;132;01m{\u001b[39;00mdll\u001b[38;5;132;01m}\u001b[39;00m\u001b[38;5;124m\"\u001b[39m\u001b[38;5;124m or one of its dependencies.\u001b[39m\u001b[38;5;124m'\u001b[39m\n\u001b[1;32m--> 141\u001b[0m                 \u001b[38;5;28;01mraise\u001b[39;00m err\n\u001b[0;32m    143\u001b[0m     kernel32\u001b[38;5;241m.\u001b[39mSetErrorMode(prev_error_mode)\n\u001b[0;32m    146\u001b[0m \u001b[38;5;28;01mdef\u001b[39;00m \u001b[38;5;21m_preload_cuda_deps\u001b[39m(lib_folder, lib_name):\n",
            "\u001b[1;31mOSError\u001b[0m: [WinError 126] The specified module could not be found. Error loading \"C:\\Users\\eolor\\AppData\\Local\\Packages\\PythonSoftwareFoundation.Python.3.12_qbz5n2kfra8p0\\LocalCache\\local-packages\\Python312\\site-packages\\torch\\lib\\shm.dll\" or one of its dependencies."
          ]
        }
      ],
      "source": [
        "import transformers\n",
        "from transformers import BertTokenizer, BertForMaskedLM, BertModel, pipeline\n",
        "import bert_score\n",
        "from bert_score import BERTScorer"
      ]
    },
    {
      "cell_type": "code",
      "execution_count": null,
      "metadata": {},
      "outputs": [],
      "source": [
        "reference = summaryDF('Paragraph')\n",
        "candidate = summaryDF['Summary']\n",
        "scorer = BERTScorer(model_type='bert-base-uncased')\n",
        "P, R, F1 = scorer.score(candidate, reference)\n",
        "print(f\"BERTScore Precision: {P.mean():.4f}, Recall: {R.mean():.4f}, F1: {F1.mean():.4f}\")"
      ]
    }
  ],
  "metadata": {
    "colab": {
      "provenance": []
    },
    "kernelspec": {
      "display_name": "Python 3",
      "name": "python3"
    },
    "language_info": {
      "codemirror_mode": {
        "name": "ipython",
        "version": 3
      },
      "file_extension": ".py",
      "mimetype": "text/x-python",
      "name": "python",
      "nbconvert_exporter": "python",
      "pygments_lexer": "ipython3",
      "version": "3.12.3"
    }
  },
  "nbformat": 4,
  "nbformat_minor": 0
}
